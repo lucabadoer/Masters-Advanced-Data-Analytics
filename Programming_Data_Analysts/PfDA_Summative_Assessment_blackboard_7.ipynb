{
  "nbformat": 4,
  "nbformat_minor": 0,
  "metadata": {
    "colab": {
      "name": "PfDA_Summative_Assessment_blackboard_9.ipynb",
      "provenance": []
    },
    "kernelspec": {
      "name": "python3",
      "display_name": "Python 3"
    },
    "language_info": {
      "name": "python"
    }
  },
  "cells": [
    {
      "cell_type": "markdown",
      "source": [
        "# Importing PDF and Excel data, creating base dataframe and cleaning data\n",
        "\n",
        "Start by importing the following libraries which we are going to use to load the data, clean it up and do some exploratory data analysis before we run the classification algorithms:\n",
        "\n",
        "- Python Pandas: to load and manage tabular data.\n",
        "- Tabula: to load data from a table stored in a .pdf file.\n",
        "- MatplotLib: to visualise data durin the exploratory data analysis\n",
        "- Numpy: to perform mathematical operations with the data set.\n",
        "\n"
      ],
      "metadata": {
        "id": "s2tRFwJHfhg2"
      }
    },
    {
      "cell_type": "code",
      "metadata": {
        "colab": {
          "base_uri": "https://localhost:8080/"
        },
        "id": "NM2t0npHxdB6",
        "outputId": "af73f32e-6231-454d-8116-46f8c00b97cd"
      },
      "source": [
        "import pandas as pd\n",
        "!pip install tabula-py # since tabula-py library is not installed by default on Google colab servers\n",
        "import tabula\n",
        "import matplotlib.pyplot as plt\n",
        "import numpy as np"
      ],
      "execution_count": 1,
      "outputs": [
        {
          "output_type": "stream",
          "name": "stdout",
          "text": [
            "Requirement already satisfied: tabula-py in /usr/local/lib/python3.7/dist-packages (2.3.0)\n",
            "Requirement already satisfied: distro in /usr/local/lib/python3.7/dist-packages (from tabula-py) (1.6.0)\n",
            "Requirement already satisfied: numpy in /usr/local/lib/python3.7/dist-packages (from tabula-py) (1.19.5)\n",
            "Requirement already satisfied: pandas>=0.25.3 in /usr/local/lib/python3.7/dist-packages (from tabula-py) (1.1.5)\n",
            "Requirement already satisfied: pytz>=2017.2 in /usr/local/lib/python3.7/dist-packages (from pandas>=0.25.3->tabula-py) (2018.9)\n",
            "Requirement already satisfied: python-dateutil>=2.7.3 in /usr/local/lib/python3.7/dist-packages (from pandas>=0.25.3->tabula-py) (2.8.2)\n",
            "Requirement already satisfied: six>=1.5 in /usr/local/lib/python3.7/dist-packages (from python-dateutil>=2.7.3->pandas>=0.25.3->tabula-py) (1.15.0)\n"
          ]
        }
      ]
    },
    {
      "cell_type": "markdown",
      "source": [
        "Load the data from the PDF file and save it to a csv file. Then load the newly created csv file and store it as a Pandas dataframe."
      ],
      "metadata": {
        "id": "QUbhmUuWCKew"
      }
    },
    {
      "cell_type": "code",
      "metadata": {
        "id": "Xtkp8R0SyUCw"
      },
      "source": [
        "# output the tables in the PDF to a CSV\n",
        "\n",
        "tabula.convert_into(\"/content/Loans_Database_Table.pdf\", \"loans_db_table.csv\", pages = 'all')"
      ],
      "execution_count": 2,
      "outputs": []
    },
    {
      "cell_type": "code",
      "metadata": {
        "id": "DRuPt-UzycXc"
      },
      "source": [
        "# load loans table that was previously in a pdf from a csv file\n",
        "\n",
        "df = pd.read_csv(\"/content/loans_db_table.csv\")"
      ],
      "execution_count": 3,
      "outputs": []
    },
    {
      "cell_type": "markdown",
      "source": [
        "Check that the dataframe has been created correctly and check the size of it.\n",
        "\n",
        "---\n",
        "\n"
      ],
      "metadata": {
        "id": "tSIDNEbyCiSw"
      }
    },
    {
      "cell_type": "code",
      "metadata": {
        "colab": {
          "base_uri": "https://localhost:8080/",
          "height": 206
        },
        "id": "oy9fI0jTykTC",
        "outputId": "09053652-a1b9-4b1b-a750-24cdc5c851d4"
      },
      "source": [
        "df.head()"
      ],
      "execution_count": 4,
      "outputs": [
        {
          "output_type": "execute_result",
          "data": {
            "text/html": [
              "\n",
              "  <div id=\"df-ad5a0b0c-74ec-47ce-a753-09fa714d668a\">\n",
              "    <div class=\"colab-df-container\">\n",
              "      <div>\n",
              "<style scoped>\n",
              "    .dataframe tbody tr th:only-of-type {\n",
              "        vertical-align: middle;\n",
              "    }\n",
              "\n",
              "    .dataframe tbody tr th {\n",
              "        vertical-align: top;\n",
              "    }\n",
              "\n",
              "    .dataframe thead th {\n",
              "        text-align: right;\n",
              "    }\n",
              "</style>\n",
              "<table border=\"1\" class=\"dataframe\">\n",
              "  <thead>\n",
              "    <tr style=\"text-align: right;\">\n",
              "      <th></th>\n",
              "      <th>Loan_ID</th>\n",
              "      <th>Gender</th>\n",
              "      <th>Married</th>\n",
              "      <th>Dependents</th>\n",
              "      <th>Graduate</th>\n",
              "      <th>Self_Employed</th>\n",
              "      <th>ApplicantIncome</th>\n",
              "      <th>CoapplicantIncome</th>\n",
              "      <th>LoanAmount</th>\n",
              "      <th>Loan_Amount_Term</th>\n",
              "      <th>Credit_History</th>\n",
              "      <th>Property_Area</th>\n",
              "      <th>Loan_Status</th>\n",
              "    </tr>\n",
              "  </thead>\n",
              "  <tbody>\n",
              "    <tr>\n",
              "      <th>0</th>\n",
              "      <td>1002</td>\n",
              "      <td>1</td>\n",
              "      <td>0</td>\n",
              "      <td>0</td>\n",
              "      <td>1</td>\n",
              "      <td>0</td>\n",
              "      <td>5849</td>\n",
              "      <td>0.0</td>\n",
              "      <td>128</td>\n",
              "      <td>360</td>\n",
              "      <td>1</td>\n",
              "      <td>1</td>\n",
              "      <td>Y</td>\n",
              "    </tr>\n",
              "    <tr>\n",
              "      <th>1</th>\n",
              "      <td>1003</td>\n",
              "      <td>1</td>\n",
              "      <td>1</td>\n",
              "      <td>1</td>\n",
              "      <td>1</td>\n",
              "      <td>0</td>\n",
              "      <td>4583</td>\n",
              "      <td>1508.0</td>\n",
              "      <td>128</td>\n",
              "      <td>360</td>\n",
              "      <td>1</td>\n",
              "      <td>3</td>\n",
              "      <td>N</td>\n",
              "    </tr>\n",
              "    <tr>\n",
              "      <th>2</th>\n",
              "      <td>1005</td>\n",
              "      <td>1</td>\n",
              "      <td>1</td>\n",
              "      <td>0</td>\n",
              "      <td>1</td>\n",
              "      <td>1</td>\n",
              "      <td>3000</td>\n",
              "      <td>0.0</td>\n",
              "      <td>66</td>\n",
              "      <td>360</td>\n",
              "      <td>1</td>\n",
              "      <td>1</td>\n",
              "      <td>Y</td>\n",
              "    </tr>\n",
              "    <tr>\n",
              "      <th>3</th>\n",
              "      <td>1006</td>\n",
              "      <td>1</td>\n",
              "      <td>1</td>\n",
              "      <td>0</td>\n",
              "      <td>0</td>\n",
              "      <td>0</td>\n",
              "      <td>2583</td>\n",
              "      <td>2358.0</td>\n",
              "      <td>120</td>\n",
              "      <td>360</td>\n",
              "      <td>1</td>\n",
              "      <td>1</td>\n",
              "      <td>Y</td>\n",
              "    </tr>\n",
              "    <tr>\n",
              "      <th>4</th>\n",
              "      <td>1008</td>\n",
              "      <td>1</td>\n",
              "      <td>0</td>\n",
              "      <td>0</td>\n",
              "      <td>1</td>\n",
              "      <td>0</td>\n",
              "      <td>6000</td>\n",
              "      <td>0.0</td>\n",
              "      <td>141</td>\n",
              "      <td>360</td>\n",
              "      <td>1</td>\n",
              "      <td>1</td>\n",
              "      <td>Y</td>\n",
              "    </tr>\n",
              "  </tbody>\n",
              "</table>\n",
              "</div>\n",
              "      <button class=\"colab-df-convert\" onclick=\"convertToInteractive('df-ad5a0b0c-74ec-47ce-a753-09fa714d668a')\"\n",
              "              title=\"Convert this dataframe to an interactive table.\"\n",
              "              style=\"display:none;\">\n",
              "        \n",
              "  <svg xmlns=\"http://www.w3.org/2000/svg\" height=\"24px\"viewBox=\"0 0 24 24\"\n",
              "       width=\"24px\">\n",
              "    <path d=\"M0 0h24v24H0V0z\" fill=\"none\"/>\n",
              "    <path d=\"M18.56 5.44l.94 2.06.94-2.06 2.06-.94-2.06-.94-.94-2.06-.94 2.06-2.06.94zm-11 1L8.5 8.5l.94-2.06 2.06-.94-2.06-.94L8.5 2.5l-.94 2.06-2.06.94zm10 10l.94 2.06.94-2.06 2.06-.94-2.06-.94-.94-2.06-.94 2.06-2.06.94z\"/><path d=\"M17.41 7.96l-1.37-1.37c-.4-.4-.92-.59-1.43-.59-.52 0-1.04.2-1.43.59L10.3 9.45l-7.72 7.72c-.78.78-.78 2.05 0 2.83L4 21.41c.39.39.9.59 1.41.59.51 0 1.02-.2 1.41-.59l7.78-7.78 2.81-2.81c.8-.78.8-2.07 0-2.86zM5.41 20L4 18.59l7.72-7.72 1.47 1.35L5.41 20z\"/>\n",
              "  </svg>\n",
              "      </button>\n",
              "      \n",
              "  <style>\n",
              "    .colab-df-container {\n",
              "      display:flex;\n",
              "      flex-wrap:wrap;\n",
              "      gap: 12px;\n",
              "    }\n",
              "\n",
              "    .colab-df-convert {\n",
              "      background-color: #E8F0FE;\n",
              "      border: none;\n",
              "      border-radius: 50%;\n",
              "      cursor: pointer;\n",
              "      display: none;\n",
              "      fill: #1967D2;\n",
              "      height: 32px;\n",
              "      padding: 0 0 0 0;\n",
              "      width: 32px;\n",
              "    }\n",
              "\n",
              "    .colab-df-convert:hover {\n",
              "      background-color: #E2EBFA;\n",
              "      box-shadow: 0px 1px 2px rgba(60, 64, 67, 0.3), 0px 1px 3px 1px rgba(60, 64, 67, 0.15);\n",
              "      fill: #174EA6;\n",
              "    }\n",
              "\n",
              "    [theme=dark] .colab-df-convert {\n",
              "      background-color: #3B4455;\n",
              "      fill: #D2E3FC;\n",
              "    }\n",
              "\n",
              "    [theme=dark] .colab-df-convert:hover {\n",
              "      background-color: #434B5C;\n",
              "      box-shadow: 0px 1px 3px 1px rgba(0, 0, 0, 0.15);\n",
              "      filter: drop-shadow(0px 1px 2px rgba(0, 0, 0, 0.3));\n",
              "      fill: #FFFFFF;\n",
              "    }\n",
              "  </style>\n",
              "\n",
              "      <script>\n",
              "        const buttonEl =\n",
              "          document.querySelector('#df-ad5a0b0c-74ec-47ce-a753-09fa714d668a button.colab-df-convert');\n",
              "        buttonEl.style.display =\n",
              "          google.colab.kernel.accessAllowed ? 'block' : 'none';\n",
              "\n",
              "        async function convertToInteractive(key) {\n",
              "          const element = document.querySelector('#df-ad5a0b0c-74ec-47ce-a753-09fa714d668a');\n",
              "          const dataTable =\n",
              "            await google.colab.kernel.invokeFunction('convertToInteractive',\n",
              "                                                     [key], {});\n",
              "          if (!dataTable) return;\n",
              "\n",
              "          const docLinkHtml = 'Like what you see? Visit the ' +\n",
              "            '<a target=\"_blank\" href=https://colab.research.google.com/notebooks/data_table.ipynb>data table notebook</a>'\n",
              "            + ' to learn more about interactive tables.';\n",
              "          element.innerHTML = '';\n",
              "          dataTable['output_type'] = 'display_data';\n",
              "          await google.colab.output.renderOutput(dataTable, element);\n",
              "          const docLink = document.createElement('div');\n",
              "          docLink.innerHTML = docLinkHtml;\n",
              "          element.appendChild(docLink);\n",
              "        }\n",
              "      </script>\n",
              "    </div>\n",
              "  </div>\n",
              "  "
            ],
            "text/plain": [
              "   Loan_ID  Gender  Married  ...  Credit_History  Property_Area  Loan_Status\n",
              "0     1002       1        0  ...               1              1            Y\n",
              "1     1003       1        1  ...               1              3            N\n",
              "2     1005       1        1  ...               1              1            Y\n",
              "3     1006       1        1  ...               1              1            Y\n",
              "4     1008       1        0  ...               1              1            Y\n",
              "\n",
              "[5 rows x 13 columns]"
            ]
          },
          "metadata": {},
          "execution_count": 4
        }
      ]
    },
    {
      "cell_type": "code",
      "source": [
        "df.shape"
      ],
      "metadata": {
        "colab": {
          "base_uri": "https://localhost:8080/"
        },
        "id": "0-tv_B7YmjbJ",
        "outputId": "3b116767-4e54-4cf8-f530-432b866ca5b5"
      },
      "execution_count": 5,
      "outputs": [
        {
          "output_type": "execute_result",
          "data": {
            "text/plain": [
              "(398, 13)"
            ]
          },
          "metadata": {},
          "execution_count": 5
        }
      ]
    },
    {
      "cell_type": "markdown",
      "source": [
        "**Load** the second dataset provided from an excel file and store it in separate dataframe. Check the size of both dataframes."
      ],
      "metadata": {
        "id": "WxiSzo57Cnp4"
      }
    },
    {
      "cell_type": "code",
      "metadata": {
        "id": "GQ_EEEllynGM"
      },
      "source": [
        "# load the extra loan data in xlsx format using pd.read_excel\n",
        "\n",
        "df_2 = pd.read_excel(\"/content/Zappy Loan Data.xlsx\")"
      ],
      "execution_count": 6,
      "outputs": []
    },
    {
      "cell_type": "code",
      "metadata": {
        "colab": {
          "base_uri": "https://localhost:8080/",
          "height": 206
        },
        "id": "t3K6W86VysyS",
        "outputId": "8d8a6bbe-9664-429c-a4af-c7ff9aa3e5ed"
      },
      "source": [
        "df_2.head()"
      ],
      "execution_count": 7,
      "outputs": [
        {
          "output_type": "execute_result",
          "data": {
            "text/html": [
              "\n",
              "  <div id=\"df-b1560ff0-ff61-40d2-a6ff-314f8ddb761e\">\n",
              "    <div class=\"colab-df-container\">\n",
              "      <div>\n",
              "<style scoped>\n",
              "    .dataframe tbody tr th:only-of-type {\n",
              "        vertical-align: middle;\n",
              "    }\n",
              "\n",
              "    .dataframe tbody tr th {\n",
              "        vertical-align: top;\n",
              "    }\n",
              "\n",
              "    .dataframe thead th {\n",
              "        text-align: right;\n",
              "    }\n",
              "</style>\n",
              "<table border=\"1\" class=\"dataframe\">\n",
              "  <thead>\n",
              "    <tr style=\"text-align: right;\">\n",
              "      <th></th>\n",
              "      <th>Loan_ID</th>\n",
              "      <th>Gender</th>\n",
              "      <th>Married</th>\n",
              "      <th>Dependents</th>\n",
              "      <th>Graduate</th>\n",
              "      <th>Self_Employed</th>\n",
              "      <th>ApplicantIncome</th>\n",
              "      <th>CoapplicantIncome</th>\n",
              "      <th>LoanAmount</th>\n",
              "      <th>Loan_Amount_Term</th>\n",
              "      <th>Credit_History</th>\n",
              "      <th>Property_Area</th>\n",
              "      <th>Loan_Status</th>\n",
              "    </tr>\n",
              "  </thead>\n",
              "  <tbody>\n",
              "    <tr>\n",
              "      <th>0</th>\n",
              "      <td>2284</td>\n",
              "      <td>1</td>\n",
              "      <td>0</td>\n",
              "      <td>0</td>\n",
              "      <td>0</td>\n",
              "      <td>0</td>\n",
              "      <td>3902</td>\n",
              "      <td>1666.0</td>\n",
              "      <td>109</td>\n",
              "      <td>333</td>\n",
              "      <td>1</td>\n",
              "      <td>3</td>\n",
              "      <td>Y</td>\n",
              "    </tr>\n",
              "    <tr>\n",
              "      <th>1</th>\n",
              "      <td>2287</td>\n",
              "      <td>2</td>\n",
              "      <td>0</td>\n",
              "      <td>0</td>\n",
              "      <td>1</td>\n",
              "      <td>0</td>\n",
              "      <td>1500</td>\n",
              "      <td>1800.0</td>\n",
              "      <td>103</td>\n",
              "      <td>333</td>\n",
              "      <td>0</td>\n",
              "      <td>2</td>\n",
              "      <td>N</td>\n",
              "    </tr>\n",
              "    <tr>\n",
              "      <th>2</th>\n",
              "      <td>2288</td>\n",
              "      <td>1</td>\n",
              "      <td>1</td>\n",
              "      <td>2</td>\n",
              "      <td>0</td>\n",
              "      <td>0</td>\n",
              "      <td>2889</td>\n",
              "      <td>0.0</td>\n",
              "      <td>45</td>\n",
              "      <td>180</td>\n",
              "      <td>0</td>\n",
              "      <td>1</td>\n",
              "      <td>N</td>\n",
              "    </tr>\n",
              "    <tr>\n",
              "      <th>3</th>\n",
              "      <td>2296</td>\n",
              "      <td>1</td>\n",
              "      <td>0</td>\n",
              "      <td>0</td>\n",
              "      <td>0</td>\n",
              "      <td>0</td>\n",
              "      <td>2755</td>\n",
              "      <td>0.0</td>\n",
              "      <td>65</td>\n",
              "      <td>300</td>\n",
              "      <td>1</td>\n",
              "      <td>3</td>\n",
              "      <td>N</td>\n",
              "    </tr>\n",
              "    <tr>\n",
              "      <th>4</th>\n",
              "      <td>2297</td>\n",
              "      <td>1</td>\n",
              "      <td>0</td>\n",
              "      <td>0</td>\n",
              "      <td>1</td>\n",
              "      <td>0</td>\n",
              "      <td>2500</td>\n",
              "      <td>20000.0</td>\n",
              "      <td>103</td>\n",
              "      <td>333</td>\n",
              "      <td>1</td>\n",
              "      <td>2</td>\n",
              "      <td>Y</td>\n",
              "    </tr>\n",
              "  </tbody>\n",
              "</table>\n",
              "</div>\n",
              "      <button class=\"colab-df-convert\" onclick=\"convertToInteractive('df-b1560ff0-ff61-40d2-a6ff-314f8ddb761e')\"\n",
              "              title=\"Convert this dataframe to an interactive table.\"\n",
              "              style=\"display:none;\">\n",
              "        \n",
              "  <svg xmlns=\"http://www.w3.org/2000/svg\" height=\"24px\"viewBox=\"0 0 24 24\"\n",
              "       width=\"24px\">\n",
              "    <path d=\"M0 0h24v24H0V0z\" fill=\"none\"/>\n",
              "    <path d=\"M18.56 5.44l.94 2.06.94-2.06 2.06-.94-2.06-.94-.94-2.06-.94 2.06-2.06.94zm-11 1L8.5 8.5l.94-2.06 2.06-.94-2.06-.94L8.5 2.5l-.94 2.06-2.06.94zm10 10l.94 2.06.94-2.06 2.06-.94-2.06-.94-.94-2.06-.94 2.06-2.06.94z\"/><path d=\"M17.41 7.96l-1.37-1.37c-.4-.4-.92-.59-1.43-.59-.52 0-1.04.2-1.43.59L10.3 9.45l-7.72 7.72c-.78.78-.78 2.05 0 2.83L4 21.41c.39.39.9.59 1.41.59.51 0 1.02-.2 1.41-.59l7.78-7.78 2.81-2.81c.8-.78.8-2.07 0-2.86zM5.41 20L4 18.59l7.72-7.72 1.47 1.35L5.41 20z\"/>\n",
              "  </svg>\n",
              "      </button>\n",
              "      \n",
              "  <style>\n",
              "    .colab-df-container {\n",
              "      display:flex;\n",
              "      flex-wrap:wrap;\n",
              "      gap: 12px;\n",
              "    }\n",
              "\n",
              "    .colab-df-convert {\n",
              "      background-color: #E8F0FE;\n",
              "      border: none;\n",
              "      border-radius: 50%;\n",
              "      cursor: pointer;\n",
              "      display: none;\n",
              "      fill: #1967D2;\n",
              "      height: 32px;\n",
              "      padding: 0 0 0 0;\n",
              "      width: 32px;\n",
              "    }\n",
              "\n",
              "    .colab-df-convert:hover {\n",
              "      background-color: #E2EBFA;\n",
              "      box-shadow: 0px 1px 2px rgba(60, 64, 67, 0.3), 0px 1px 3px 1px rgba(60, 64, 67, 0.15);\n",
              "      fill: #174EA6;\n",
              "    }\n",
              "\n",
              "    [theme=dark] .colab-df-convert {\n",
              "      background-color: #3B4455;\n",
              "      fill: #D2E3FC;\n",
              "    }\n",
              "\n",
              "    [theme=dark] .colab-df-convert:hover {\n",
              "      background-color: #434B5C;\n",
              "      box-shadow: 0px 1px 3px 1px rgba(0, 0, 0, 0.15);\n",
              "      filter: drop-shadow(0px 1px 2px rgba(0, 0, 0, 0.3));\n",
              "      fill: #FFFFFF;\n",
              "    }\n",
              "  </style>\n",
              "\n",
              "      <script>\n",
              "        const buttonEl =\n",
              "          document.querySelector('#df-b1560ff0-ff61-40d2-a6ff-314f8ddb761e button.colab-df-convert');\n",
              "        buttonEl.style.display =\n",
              "          google.colab.kernel.accessAllowed ? 'block' : 'none';\n",
              "\n",
              "        async function convertToInteractive(key) {\n",
              "          const element = document.querySelector('#df-b1560ff0-ff61-40d2-a6ff-314f8ddb761e');\n",
              "          const dataTable =\n",
              "            await google.colab.kernel.invokeFunction('convertToInteractive',\n",
              "                                                     [key], {});\n",
              "          if (!dataTable) return;\n",
              "\n",
              "          const docLinkHtml = 'Like what you see? Visit the ' +\n",
              "            '<a target=\"_blank\" href=https://colab.research.google.com/notebooks/data_table.ipynb>data table notebook</a>'\n",
              "            + ' to learn more about interactive tables.';\n",
              "          element.innerHTML = '';\n",
              "          dataTable['output_type'] = 'display_data';\n",
              "          await google.colab.output.renderOutput(dataTable, element);\n",
              "          const docLink = document.createElement('div');\n",
              "          docLink.innerHTML = docLinkHtml;\n",
              "          element.appendChild(docLink);\n",
              "        }\n",
              "      </script>\n",
              "    </div>\n",
              "  </div>\n",
              "  "
            ],
            "text/plain": [
              "   Loan_ID  Gender  Married  ...  Credit_History  Property_Area  Loan_Status\n",
              "0     2284       1        0  ...               1              3            Y\n",
              "1     2287       2        0  ...               0              2            N\n",
              "2     2288       1        1  ...               0              1            N\n",
              "3     2296       1        0  ...               1              3            N\n",
              "4     2297       1        0  ...               1              2            Y\n",
              "\n",
              "[5 rows x 13 columns]"
            ]
          },
          "metadata": {},
          "execution_count": 7
        }
      ]
    },
    {
      "cell_type": "code",
      "metadata": {
        "colab": {
          "base_uri": "https://localhost:8080/"
        },
        "id": "EueG2Z0HyuGX",
        "outputId": "f7c11cfc-c897-4af9-a106-cfceafc11c59"
      },
      "source": [
        "print(df.shape)\n",
        "print(df_2.shape)"
      ],
      "execution_count": 8,
      "outputs": [
        {
          "output_type": "stream",
          "name": "stdout",
          "text": [
            "(398, 13)\n",
            "(247, 13)\n"
          ]
        }
      ]
    },
    {
      "cell_type": "markdown",
      "source": [
        "Create one single dataframe by appending the second dataframe we created (by uploading the excel file) to the first dataframe we created earlier. Check the shape of the resulting dataframe to make sure we aren't missing any data."
      ],
      "metadata": {
        "id": "B5AUtyRWCyan"
      }
    },
    {
      "cell_type": "code",
      "metadata": {
        "id": "8530JDQnyy7b"
      },
      "source": [
        "# merge the 2 datasets into 1 \n",
        "\n",
        "df = df.append(df_2)\n"
      ],
      "execution_count": 9,
      "outputs": []
    },
    {
      "cell_type": "code",
      "metadata": {
        "colab": {
          "base_uri": "https://localhost:8080/"
        },
        "id": "D_oqoJf2y3_A",
        "outputId": "18b969e1-0c42-4845-d36b-b96d36b04d2d"
      },
      "source": [
        "df.shape"
      ],
      "execution_count": 10,
      "outputs": [
        {
          "output_type": "execute_result",
          "data": {
            "text/plain": [
              "(645, 13)"
            ]
          },
          "metadata": {},
          "execution_count": 10
        }
      ]
    },
    {
      "cell_type": "markdown",
      "source": [
        "Start cleaning up the data by looking at null values\n",
        "\n",
        "\n",
        "\n",
        "\n",
        "\n"
      ],
      "metadata": {
        "id": "3td_yvmmDFzW"
      }
    },
    {
      "cell_type": "code",
      "metadata": {
        "colab": {
          "base_uri": "https://localhost:8080/"
        },
        "id": "-t6AM1v4y99T",
        "outputId": "4486900f-1fe7-4c6f-bfce-5cf2da80ab1e"
      },
      "source": [
        "# check for null values\n",
        "\n",
        "df.isna().sum()"
      ],
      "execution_count": 11,
      "outputs": [
        {
          "output_type": "execute_result",
          "data": {
            "text/plain": [
              "Loan_ID              0\n",
              "Gender               0\n",
              "Married              0\n",
              "Dependents           0\n",
              "Graduate             0\n",
              "Self_Employed        0\n",
              "ApplicantIncome      0\n",
              "CoapplicantIncome    0\n",
              "LoanAmount           0\n",
              "Loan_Amount_Term     0\n",
              "Credit_History       0\n",
              "Property_Area        0\n",
              "Loan_Status          0\n",
              "dtype: int64"
            ]
          },
          "metadata": {},
          "execution_count": 11
        }
      ]
    },
    {
      "cell_type": "markdown",
      "source": [
        "Continue cleaning up the data by dropping only columns that have all the values duplicated, as opposed to dropping all the rows that have duplicate \"loan_id\". The author considers that given that some of the data has been collected manually, the fact that there are duplicate \"loan_id\" IDs with different data values shouldn't make those entries invalid. This allows us to keep more data to feed to the algortihm later on."
      ],
      "metadata": {
        "id": "Tl7Lkaj3lhZd"
      }
    },
    {
      "cell_type": "code",
      "metadata": {
        "id": "Q5LlVA5fz1NL"
      },
      "source": [
        "# drop duplicates considering all the columns\n",
        "\n",
        "df = df.drop_duplicates()"
      ],
      "execution_count": 12,
      "outputs": []
    },
    {
      "cell_type": "markdown",
      "source": [
        "As a result of discarding only rows with all values duplicated we drop only 3."
      ],
      "metadata": {
        "id": "66Jts2lenJSP"
      }
    },
    {
      "cell_type": "code",
      "source": [
        "df.shape"
      ],
      "metadata": {
        "id": "Yb-l7rAYopqu",
        "outputId": "74d86fe7-2942-49f3-91f5-a309f86ffb2d",
        "colab": {
          "base_uri": "https://localhost:8080/"
        }
      },
      "execution_count": 13,
      "outputs": [
        {
          "output_type": "execute_result",
          "data": {
            "text/plain": [
              "(642, 13)"
            ]
          },
          "metadata": {},
          "execution_count": 13
        }
      ]
    },
    {
      "cell_type": "markdown",
      "source": [
        "Change the to use the \"Loan ID\" field"
      ],
      "metadata": {
        "id": "wSN66XCtDd3Y"
      }
    },
    {
      "cell_type": "code",
      "metadata": {
        "colab": {
          "base_uri": "https://localhost:8080/",
          "height": 238
        },
        "id": "0IfJWxzKy5ic",
        "outputId": "21e1bfab-38e9-414e-e258-be499734b68c"
      },
      "source": [
        "# set loan id as index\n",
        "\n",
        "df.set_index(\"Loan_ID\", inplace=True)\n",
        "\n",
        "df.head()\n"
      ],
      "execution_count": 14,
      "outputs": [
        {
          "output_type": "execute_result",
          "data": {
            "text/html": [
              "\n",
              "  <div id=\"df-127cfdc2-84c6-4158-a619-c9c1c36c0b9a\">\n",
              "    <div class=\"colab-df-container\">\n",
              "      <div>\n",
              "<style scoped>\n",
              "    .dataframe tbody tr th:only-of-type {\n",
              "        vertical-align: middle;\n",
              "    }\n",
              "\n",
              "    .dataframe tbody tr th {\n",
              "        vertical-align: top;\n",
              "    }\n",
              "\n",
              "    .dataframe thead th {\n",
              "        text-align: right;\n",
              "    }\n",
              "</style>\n",
              "<table border=\"1\" class=\"dataframe\">\n",
              "  <thead>\n",
              "    <tr style=\"text-align: right;\">\n",
              "      <th></th>\n",
              "      <th>Gender</th>\n",
              "      <th>Married</th>\n",
              "      <th>Dependents</th>\n",
              "      <th>Graduate</th>\n",
              "      <th>Self_Employed</th>\n",
              "      <th>ApplicantIncome</th>\n",
              "      <th>CoapplicantIncome</th>\n",
              "      <th>LoanAmount</th>\n",
              "      <th>Loan_Amount_Term</th>\n",
              "      <th>Credit_History</th>\n",
              "      <th>Property_Area</th>\n",
              "      <th>Loan_Status</th>\n",
              "    </tr>\n",
              "    <tr>\n",
              "      <th>Loan_ID</th>\n",
              "      <th></th>\n",
              "      <th></th>\n",
              "      <th></th>\n",
              "      <th></th>\n",
              "      <th></th>\n",
              "      <th></th>\n",
              "      <th></th>\n",
              "      <th></th>\n",
              "      <th></th>\n",
              "      <th></th>\n",
              "      <th></th>\n",
              "      <th></th>\n",
              "    </tr>\n",
              "  </thead>\n",
              "  <tbody>\n",
              "    <tr>\n",
              "      <th>1002</th>\n",
              "      <td>1</td>\n",
              "      <td>0</td>\n",
              "      <td>0</td>\n",
              "      <td>1</td>\n",
              "      <td>0</td>\n",
              "      <td>5849</td>\n",
              "      <td>0.0</td>\n",
              "      <td>128</td>\n",
              "      <td>360</td>\n",
              "      <td>1</td>\n",
              "      <td>1</td>\n",
              "      <td>Y</td>\n",
              "    </tr>\n",
              "    <tr>\n",
              "      <th>1003</th>\n",
              "      <td>1</td>\n",
              "      <td>1</td>\n",
              "      <td>1</td>\n",
              "      <td>1</td>\n",
              "      <td>0</td>\n",
              "      <td>4583</td>\n",
              "      <td>1508.0</td>\n",
              "      <td>128</td>\n",
              "      <td>360</td>\n",
              "      <td>1</td>\n",
              "      <td>3</td>\n",
              "      <td>N</td>\n",
              "    </tr>\n",
              "    <tr>\n",
              "      <th>1005</th>\n",
              "      <td>1</td>\n",
              "      <td>1</td>\n",
              "      <td>0</td>\n",
              "      <td>1</td>\n",
              "      <td>1</td>\n",
              "      <td>3000</td>\n",
              "      <td>0.0</td>\n",
              "      <td>66</td>\n",
              "      <td>360</td>\n",
              "      <td>1</td>\n",
              "      <td>1</td>\n",
              "      <td>Y</td>\n",
              "    </tr>\n",
              "    <tr>\n",
              "      <th>1006</th>\n",
              "      <td>1</td>\n",
              "      <td>1</td>\n",
              "      <td>0</td>\n",
              "      <td>0</td>\n",
              "      <td>0</td>\n",
              "      <td>2583</td>\n",
              "      <td>2358.0</td>\n",
              "      <td>120</td>\n",
              "      <td>360</td>\n",
              "      <td>1</td>\n",
              "      <td>1</td>\n",
              "      <td>Y</td>\n",
              "    </tr>\n",
              "    <tr>\n",
              "      <th>1008</th>\n",
              "      <td>1</td>\n",
              "      <td>0</td>\n",
              "      <td>0</td>\n",
              "      <td>1</td>\n",
              "      <td>0</td>\n",
              "      <td>6000</td>\n",
              "      <td>0.0</td>\n",
              "      <td>141</td>\n",
              "      <td>360</td>\n",
              "      <td>1</td>\n",
              "      <td>1</td>\n",
              "      <td>Y</td>\n",
              "    </tr>\n",
              "  </tbody>\n",
              "</table>\n",
              "</div>\n",
              "      <button class=\"colab-df-convert\" onclick=\"convertToInteractive('df-127cfdc2-84c6-4158-a619-c9c1c36c0b9a')\"\n",
              "              title=\"Convert this dataframe to an interactive table.\"\n",
              "              style=\"display:none;\">\n",
              "        \n",
              "  <svg xmlns=\"http://www.w3.org/2000/svg\" height=\"24px\"viewBox=\"0 0 24 24\"\n",
              "       width=\"24px\">\n",
              "    <path d=\"M0 0h24v24H0V0z\" fill=\"none\"/>\n",
              "    <path d=\"M18.56 5.44l.94 2.06.94-2.06 2.06-.94-2.06-.94-.94-2.06-.94 2.06-2.06.94zm-11 1L8.5 8.5l.94-2.06 2.06-.94-2.06-.94L8.5 2.5l-.94 2.06-2.06.94zm10 10l.94 2.06.94-2.06 2.06-.94-2.06-.94-.94-2.06-.94 2.06-2.06.94z\"/><path d=\"M17.41 7.96l-1.37-1.37c-.4-.4-.92-.59-1.43-.59-.52 0-1.04.2-1.43.59L10.3 9.45l-7.72 7.72c-.78.78-.78 2.05 0 2.83L4 21.41c.39.39.9.59 1.41.59.51 0 1.02-.2 1.41-.59l7.78-7.78 2.81-2.81c.8-.78.8-2.07 0-2.86zM5.41 20L4 18.59l7.72-7.72 1.47 1.35L5.41 20z\"/>\n",
              "  </svg>\n",
              "      </button>\n",
              "      \n",
              "  <style>\n",
              "    .colab-df-container {\n",
              "      display:flex;\n",
              "      flex-wrap:wrap;\n",
              "      gap: 12px;\n",
              "    }\n",
              "\n",
              "    .colab-df-convert {\n",
              "      background-color: #E8F0FE;\n",
              "      border: none;\n",
              "      border-radius: 50%;\n",
              "      cursor: pointer;\n",
              "      display: none;\n",
              "      fill: #1967D2;\n",
              "      height: 32px;\n",
              "      padding: 0 0 0 0;\n",
              "      width: 32px;\n",
              "    }\n",
              "\n",
              "    .colab-df-convert:hover {\n",
              "      background-color: #E2EBFA;\n",
              "      box-shadow: 0px 1px 2px rgba(60, 64, 67, 0.3), 0px 1px 3px 1px rgba(60, 64, 67, 0.15);\n",
              "      fill: #174EA6;\n",
              "    }\n",
              "\n",
              "    [theme=dark] .colab-df-convert {\n",
              "      background-color: #3B4455;\n",
              "      fill: #D2E3FC;\n",
              "    }\n",
              "\n",
              "    [theme=dark] .colab-df-convert:hover {\n",
              "      background-color: #434B5C;\n",
              "      box-shadow: 0px 1px 3px 1px rgba(0, 0, 0, 0.15);\n",
              "      filter: drop-shadow(0px 1px 2px rgba(0, 0, 0, 0.3));\n",
              "      fill: #FFFFFF;\n",
              "    }\n",
              "  </style>\n",
              "\n",
              "      <script>\n",
              "        const buttonEl =\n",
              "          document.querySelector('#df-127cfdc2-84c6-4158-a619-c9c1c36c0b9a button.colab-df-convert');\n",
              "        buttonEl.style.display =\n",
              "          google.colab.kernel.accessAllowed ? 'block' : 'none';\n",
              "\n",
              "        async function convertToInteractive(key) {\n",
              "          const element = document.querySelector('#df-127cfdc2-84c6-4158-a619-c9c1c36c0b9a');\n",
              "          const dataTable =\n",
              "            await google.colab.kernel.invokeFunction('convertToInteractive',\n",
              "                                                     [key], {});\n",
              "          if (!dataTable) return;\n",
              "\n",
              "          const docLinkHtml = 'Like what you see? Visit the ' +\n",
              "            '<a target=\"_blank\" href=https://colab.research.google.com/notebooks/data_table.ipynb>data table notebook</a>'\n",
              "            + ' to learn more about interactive tables.';\n",
              "          element.innerHTML = '';\n",
              "          dataTable['output_type'] = 'display_data';\n",
              "          await google.colab.output.renderOutput(dataTable, element);\n",
              "          const docLink = document.createElement('div');\n",
              "          docLink.innerHTML = docLinkHtml;\n",
              "          element.appendChild(docLink);\n",
              "        }\n",
              "      </script>\n",
              "    </div>\n",
              "  </div>\n",
              "  "
            ],
            "text/plain": [
              "         Gender  Married  Dependents  ...  Credit_History  Property_Area  Loan_Status\n",
              "Loan_ID                               ...                                            \n",
              "1002          1        0           0  ...               1              1            Y\n",
              "1003          1        1           1  ...               1              3            N\n",
              "1005          1        1           0  ...               1              1            Y\n",
              "1006          1        1           0  ...               1              1            Y\n",
              "1008          1        0           0  ...               1              1            Y\n",
              "\n",
              "[5 rows x 12 columns]"
            ]
          },
          "metadata": {},
          "execution_count": 14
        }
      ]
    },
    {
      "cell_type": "markdown",
      "source": [
        "Understand the correlation across all the variables to make sure there's no multicollinearity in the resulting model."
      ],
      "metadata": {
        "id": "spPL7zJNxipe"
      }
    },
    {
      "cell_type": "code",
      "metadata": {
        "colab": {
          "base_uri": "https://localhost:8080/",
          "height": 394
        },
        "id": "3LRYsx-D4loP",
        "outputId": "52011bd9-f4a6-40f9-e85f-e8a5713f36b9"
      },
      "source": [
        "# check correlations across different dimensions\n",
        "\n",
        "df.corr()"
      ],
      "execution_count": 15,
      "outputs": [
        {
          "output_type": "execute_result",
          "data": {
            "text/html": [
              "\n",
              "  <div id=\"df-7dde29f5-f73c-4a9b-988e-b35b80ea464c\">\n",
              "    <div class=\"colab-df-container\">\n",
              "      <div>\n",
              "<style scoped>\n",
              "    .dataframe tbody tr th:only-of-type {\n",
              "        vertical-align: middle;\n",
              "    }\n",
              "\n",
              "    .dataframe tbody tr th {\n",
              "        vertical-align: top;\n",
              "    }\n",
              "\n",
              "    .dataframe thead th {\n",
              "        text-align: right;\n",
              "    }\n",
              "</style>\n",
              "<table border=\"1\" class=\"dataframe\">\n",
              "  <thead>\n",
              "    <tr style=\"text-align: right;\">\n",
              "      <th></th>\n",
              "      <th>Gender</th>\n",
              "      <th>Married</th>\n",
              "      <th>Dependents</th>\n",
              "      <th>Graduate</th>\n",
              "      <th>Self_Employed</th>\n",
              "      <th>ApplicantIncome</th>\n",
              "      <th>CoapplicantIncome</th>\n",
              "      <th>LoanAmount</th>\n",
              "      <th>Loan_Amount_Term</th>\n",
              "      <th>Credit_History</th>\n",
              "      <th>Property_Area</th>\n",
              "    </tr>\n",
              "  </thead>\n",
              "  <tbody>\n",
              "    <tr>\n",
              "      <th>Gender</th>\n",
              "      <td>1.000000</td>\n",
              "      <td>-0.365518</td>\n",
              "      <td>-0.173172</td>\n",
              "      <td>0.042436</td>\n",
              "      <td>-0.001517</td>\n",
              "      <td>-0.059259</td>\n",
              "      <td>-0.087910</td>\n",
              "      <td>-0.111545</td>\n",
              "      <td>0.078270</td>\n",
              "      <td>-0.028502</td>\n",
              "      <td>-0.021813</td>\n",
              "    </tr>\n",
              "    <tr>\n",
              "      <th>Married</th>\n",
              "      <td>-0.365518</td>\n",
              "      <td>1.000000</td>\n",
              "      <td>0.338063</td>\n",
              "      <td>-0.011890</td>\n",
              "      <td>-0.000394</td>\n",
              "      <td>0.049858</td>\n",
              "      <td>0.079341</td>\n",
              "      <td>0.139979</td>\n",
              "      <td>-0.098487</td>\n",
              "      <td>-0.022731</td>\n",
              "      <td>-0.008588</td>\n",
              "    </tr>\n",
              "    <tr>\n",
              "      <th>Dependents</th>\n",
              "      <td>-0.173172</td>\n",
              "      <td>0.338063</td>\n",
              "      <td>1.000000</td>\n",
              "      <td>-0.048322</td>\n",
              "      <td>0.060112</td>\n",
              "      <td>0.112463</td>\n",
              "      <td>0.029342</td>\n",
              "      <td>0.143883</td>\n",
              "      <td>-0.107730</td>\n",
              "      <td>-0.021909</td>\n",
              "      <td>-0.017515</td>\n",
              "    </tr>\n",
              "    <tr>\n",
              "      <th>Graduate</th>\n",
              "      <td>0.042436</td>\n",
              "      <td>-0.011890</td>\n",
              "      <td>-0.048322</td>\n",
              "      <td>1.000000</td>\n",
              "      <td>-0.000334</td>\n",
              "      <td>0.141421</td>\n",
              "      <td>0.060006</td>\n",
              "      <td>0.151174</td>\n",
              "      <td>0.078029</td>\n",
              "      <td>0.100335</td>\n",
              "      <td>-0.055792</td>\n",
              "    </tr>\n",
              "    <tr>\n",
              "      <th>Self_Employed</th>\n",
              "      <td>-0.001517</td>\n",
              "      <td>-0.000394</td>\n",
              "      <td>0.060112</td>\n",
              "      <td>-0.000334</td>\n",
              "      <td>1.000000</td>\n",
              "      <td>0.125902</td>\n",
              "      <td>-0.013016</td>\n",
              "      <td>0.109388</td>\n",
              "      <td>-0.049219</td>\n",
              "      <td>-0.016875</td>\n",
              "      <td>0.025685</td>\n",
              "    </tr>\n",
              "    <tr>\n",
              "      <th>ApplicantIncome</th>\n",
              "      <td>-0.059259</td>\n",
              "      <td>0.049858</td>\n",
              "      <td>0.112463</td>\n",
              "      <td>0.141421</td>\n",
              "      <td>0.125902</td>\n",
              "      <td>1.000000</td>\n",
              "      <td>-0.120177</td>\n",
              "      <td>0.549572</td>\n",
              "      <td>-0.051913</td>\n",
              "      <td>0.008373</td>\n",
              "      <td>0.021507</td>\n",
              "    </tr>\n",
              "    <tr>\n",
              "      <th>CoapplicantIncome</th>\n",
              "      <td>-0.087910</td>\n",
              "      <td>0.079341</td>\n",
              "      <td>0.029342</td>\n",
              "      <td>0.060006</td>\n",
              "      <td>-0.013016</td>\n",
              "      <td>-0.120177</td>\n",
              "      <td>1.000000</td>\n",
              "      <td>0.172659</td>\n",
              "      <td>-0.059956</td>\n",
              "      <td>-0.058341</td>\n",
              "      <td>-0.011831</td>\n",
              "    </tr>\n",
              "    <tr>\n",
              "      <th>LoanAmount</th>\n",
              "      <td>-0.111545</td>\n",
              "      <td>0.139979</td>\n",
              "      <td>0.143883</td>\n",
              "      <td>0.151174</td>\n",
              "      <td>0.109388</td>\n",
              "      <td>0.549572</td>\n",
              "      <td>0.172659</td>\n",
              "      <td>1.000000</td>\n",
              "      <td>0.012471</td>\n",
              "      <td>-0.022315</td>\n",
              "      <td>0.047431</td>\n",
              "    </tr>\n",
              "    <tr>\n",
              "      <th>Loan_Amount_Term</th>\n",
              "      <td>0.078270</td>\n",
              "      <td>-0.098487</td>\n",
              "      <td>-0.107730</td>\n",
              "      <td>0.078029</td>\n",
              "      <td>-0.049219</td>\n",
              "      <td>-0.051913</td>\n",
              "      <td>-0.059956</td>\n",
              "      <td>0.012471</td>\n",
              "      <td>1.000000</td>\n",
              "      <td>-0.006870</td>\n",
              "      <td>0.049153</td>\n",
              "    </tr>\n",
              "    <tr>\n",
              "      <th>Credit_History</th>\n",
              "      <td>-0.028502</td>\n",
              "      <td>-0.022731</td>\n",
              "      <td>-0.021909</td>\n",
              "      <td>0.100335</td>\n",
              "      <td>-0.016875</td>\n",
              "      <td>0.008373</td>\n",
              "      <td>-0.058341</td>\n",
              "      <td>-0.022315</td>\n",
              "      <td>-0.006870</td>\n",
              "      <td>1.000000</td>\n",
              "      <td>0.019987</td>\n",
              "    </tr>\n",
              "    <tr>\n",
              "      <th>Property_Area</th>\n",
              "      <td>-0.021813</td>\n",
              "      <td>-0.008588</td>\n",
              "      <td>-0.017515</td>\n",
              "      <td>-0.055792</td>\n",
              "      <td>0.025685</td>\n",
              "      <td>0.021507</td>\n",
              "      <td>-0.011831</td>\n",
              "      <td>0.047431</td>\n",
              "      <td>0.049153</td>\n",
              "      <td>0.019987</td>\n",
              "      <td>1.000000</td>\n",
              "    </tr>\n",
              "  </tbody>\n",
              "</table>\n",
              "</div>\n",
              "      <button class=\"colab-df-convert\" onclick=\"convertToInteractive('df-7dde29f5-f73c-4a9b-988e-b35b80ea464c')\"\n",
              "              title=\"Convert this dataframe to an interactive table.\"\n",
              "              style=\"display:none;\">\n",
              "        \n",
              "  <svg xmlns=\"http://www.w3.org/2000/svg\" height=\"24px\"viewBox=\"0 0 24 24\"\n",
              "       width=\"24px\">\n",
              "    <path d=\"M0 0h24v24H0V0z\" fill=\"none\"/>\n",
              "    <path d=\"M18.56 5.44l.94 2.06.94-2.06 2.06-.94-2.06-.94-.94-2.06-.94 2.06-2.06.94zm-11 1L8.5 8.5l.94-2.06 2.06-.94-2.06-.94L8.5 2.5l-.94 2.06-2.06.94zm10 10l.94 2.06.94-2.06 2.06-.94-2.06-.94-.94-2.06-.94 2.06-2.06.94z\"/><path d=\"M17.41 7.96l-1.37-1.37c-.4-.4-.92-.59-1.43-.59-.52 0-1.04.2-1.43.59L10.3 9.45l-7.72 7.72c-.78.78-.78 2.05 0 2.83L4 21.41c.39.39.9.59 1.41.59.51 0 1.02-.2 1.41-.59l7.78-7.78 2.81-2.81c.8-.78.8-2.07 0-2.86zM5.41 20L4 18.59l7.72-7.72 1.47 1.35L5.41 20z\"/>\n",
              "  </svg>\n",
              "      </button>\n",
              "      \n",
              "  <style>\n",
              "    .colab-df-container {\n",
              "      display:flex;\n",
              "      flex-wrap:wrap;\n",
              "      gap: 12px;\n",
              "    }\n",
              "\n",
              "    .colab-df-convert {\n",
              "      background-color: #E8F0FE;\n",
              "      border: none;\n",
              "      border-radius: 50%;\n",
              "      cursor: pointer;\n",
              "      display: none;\n",
              "      fill: #1967D2;\n",
              "      height: 32px;\n",
              "      padding: 0 0 0 0;\n",
              "      width: 32px;\n",
              "    }\n",
              "\n",
              "    .colab-df-convert:hover {\n",
              "      background-color: #E2EBFA;\n",
              "      box-shadow: 0px 1px 2px rgba(60, 64, 67, 0.3), 0px 1px 3px 1px rgba(60, 64, 67, 0.15);\n",
              "      fill: #174EA6;\n",
              "    }\n",
              "\n",
              "    [theme=dark] .colab-df-convert {\n",
              "      background-color: #3B4455;\n",
              "      fill: #D2E3FC;\n",
              "    }\n",
              "\n",
              "    [theme=dark] .colab-df-convert:hover {\n",
              "      background-color: #434B5C;\n",
              "      box-shadow: 0px 1px 3px 1px rgba(0, 0, 0, 0.15);\n",
              "      filter: drop-shadow(0px 1px 2px rgba(0, 0, 0, 0.3));\n",
              "      fill: #FFFFFF;\n",
              "    }\n",
              "  </style>\n",
              "\n",
              "      <script>\n",
              "        const buttonEl =\n",
              "          document.querySelector('#df-7dde29f5-f73c-4a9b-988e-b35b80ea464c button.colab-df-convert');\n",
              "        buttonEl.style.display =\n",
              "          google.colab.kernel.accessAllowed ? 'block' : 'none';\n",
              "\n",
              "        async function convertToInteractive(key) {\n",
              "          const element = document.querySelector('#df-7dde29f5-f73c-4a9b-988e-b35b80ea464c');\n",
              "          const dataTable =\n",
              "            await google.colab.kernel.invokeFunction('convertToInteractive',\n",
              "                                                     [key], {});\n",
              "          if (!dataTable) return;\n",
              "\n",
              "          const docLinkHtml = 'Like what you see? Visit the ' +\n",
              "            '<a target=\"_blank\" href=https://colab.research.google.com/notebooks/data_table.ipynb>data table notebook</a>'\n",
              "            + ' to learn more about interactive tables.';\n",
              "          element.innerHTML = '';\n",
              "          dataTable['output_type'] = 'display_data';\n",
              "          await google.colab.output.renderOutput(dataTable, element);\n",
              "          const docLink = document.createElement('div');\n",
              "          docLink.innerHTML = docLinkHtml;\n",
              "          element.appendChild(docLink);\n",
              "        }\n",
              "      </script>\n",
              "    </div>\n",
              "  </div>\n",
              "  "
            ],
            "text/plain": [
              "                     Gender   Married  ...  Credit_History  Property_Area\n",
              "Gender             1.000000 -0.365518  ...       -0.028502      -0.021813\n",
              "Married           -0.365518  1.000000  ...       -0.022731      -0.008588\n",
              "Dependents        -0.173172  0.338063  ...       -0.021909      -0.017515\n",
              "Graduate           0.042436 -0.011890  ...        0.100335      -0.055792\n",
              "Self_Employed     -0.001517 -0.000394  ...       -0.016875       0.025685\n",
              "ApplicantIncome   -0.059259  0.049858  ...        0.008373       0.021507\n",
              "CoapplicantIncome -0.087910  0.079341  ...       -0.058341      -0.011831\n",
              "LoanAmount        -0.111545  0.139979  ...       -0.022315       0.047431\n",
              "Loan_Amount_Term   0.078270 -0.098487  ...       -0.006870       0.049153\n",
              "Credit_History    -0.028502 -0.022731  ...        1.000000       0.019987\n",
              "Property_Area     -0.021813 -0.008588  ...        0.019987       1.000000\n",
              "\n",
              "[11 rows x 11 columns]"
            ]
          },
          "metadata": {},
          "execution_count": 15
        }
      ]
    },
    {
      "cell_type": "markdown",
      "source": [
        "Show quick stats on the data set to understand for example if the values of certain variables are much larger than others and need to be normalised before we use them in a classification algorithm. See for example that \"ApplicantIncome\", \"CoapplicantIncome\", \"LoanAmount\" and \"Loan_Amount_Term\" have much larger mean values than the rest of variables.\n"
      ],
      "metadata": {
        "id": "0jOOUYNSnw6e"
      }
    },
    {
      "cell_type": "code",
      "source": [
        "# check data in dataframe\n",
        "\n",
        "df.describe(include=\"all\")"
      ],
      "metadata": {
        "colab": {
          "base_uri": "https://localhost:8080/",
          "height": 394
        },
        "id": "bQNXuLJfl8nU",
        "outputId": "e8b1d7d9-1ddc-4d42-81f2-3ee38e7496d0"
      },
      "execution_count": 16,
      "outputs": [
        {
          "output_type": "execute_result",
          "data": {
            "text/html": [
              "\n",
              "  <div id=\"df-31b9a49c-6e83-4281-a9ae-374830409f56\">\n",
              "    <div class=\"colab-df-container\">\n",
              "      <div>\n",
              "<style scoped>\n",
              "    .dataframe tbody tr th:only-of-type {\n",
              "        vertical-align: middle;\n",
              "    }\n",
              "\n",
              "    .dataframe tbody tr th {\n",
              "        vertical-align: top;\n",
              "    }\n",
              "\n",
              "    .dataframe thead th {\n",
              "        text-align: right;\n",
              "    }\n",
              "</style>\n",
              "<table border=\"1\" class=\"dataframe\">\n",
              "  <thead>\n",
              "    <tr style=\"text-align: right;\">\n",
              "      <th></th>\n",
              "      <th>Gender</th>\n",
              "      <th>Married</th>\n",
              "      <th>Dependents</th>\n",
              "      <th>Graduate</th>\n",
              "      <th>Self_Employed</th>\n",
              "      <th>ApplicantIncome</th>\n",
              "      <th>CoapplicantIncome</th>\n",
              "      <th>LoanAmount</th>\n",
              "      <th>Loan_Amount_Term</th>\n",
              "      <th>Credit_History</th>\n",
              "      <th>Property_Area</th>\n",
              "      <th>Loan_Status</th>\n",
              "    </tr>\n",
              "  </thead>\n",
              "  <tbody>\n",
              "    <tr>\n",
              "      <th>count</th>\n",
              "      <td>642.000000</td>\n",
              "      <td>642.000000</td>\n",
              "      <td>642.000000</td>\n",
              "      <td>642.000000</td>\n",
              "      <td>642.000000</td>\n",
              "      <td>642.000000</td>\n",
              "      <td>642.000000</td>\n",
              "      <td>642.000000</td>\n",
              "      <td>642.000000</td>\n",
              "      <td>642.000000</td>\n",
              "      <td>642.000000</td>\n",
              "      <td>642</td>\n",
              "    </tr>\n",
              "    <tr>\n",
              "      <th>unique</th>\n",
              "      <td>NaN</td>\n",
              "      <td>NaN</td>\n",
              "      <td>NaN</td>\n",
              "      <td>NaN</td>\n",
              "      <td>NaN</td>\n",
              "      <td>NaN</td>\n",
              "      <td>NaN</td>\n",
              "      <td>NaN</td>\n",
              "      <td>NaN</td>\n",
              "      <td>NaN</td>\n",
              "      <td>NaN</td>\n",
              "      <td>2</td>\n",
              "    </tr>\n",
              "    <tr>\n",
              "      <th>top</th>\n",
              "      <td>NaN</td>\n",
              "      <td>NaN</td>\n",
              "      <td>NaN</td>\n",
              "      <td>NaN</td>\n",
              "      <td>NaN</td>\n",
              "      <td>NaN</td>\n",
              "      <td>NaN</td>\n",
              "      <td>NaN</td>\n",
              "      <td>NaN</td>\n",
              "      <td>NaN</td>\n",
              "      <td>NaN</td>\n",
              "      <td>Y</td>\n",
              "    </tr>\n",
              "    <tr>\n",
              "      <th>freq</th>\n",
              "      <td>NaN</td>\n",
              "      <td>NaN</td>\n",
              "      <td>NaN</td>\n",
              "      <td>NaN</td>\n",
              "      <td>NaN</td>\n",
              "      <td>NaN</td>\n",
              "      <td>NaN</td>\n",
              "      <td>NaN</td>\n",
              "      <td>NaN</td>\n",
              "      <td>NaN</td>\n",
              "      <td>NaN</td>\n",
              "      <td>444</td>\n",
              "    </tr>\n",
              "    <tr>\n",
              "      <th>mean</th>\n",
              "      <td>1.182243</td>\n",
              "      <td>0.651090</td>\n",
              "      <td>0.735202</td>\n",
              "      <td>0.783489</td>\n",
              "      <td>0.129283</td>\n",
              "      <td>5370.386293</td>\n",
              "      <td>1609.445047</td>\n",
              "      <td>148.230530</td>\n",
              "      <td>334.439252</td>\n",
              "      <td>0.777259</td>\n",
              "      <td>1.959502</td>\n",
              "      <td>NaN</td>\n",
              "    </tr>\n",
              "    <tr>\n",
              "      <th>std</th>\n",
              "      <td>0.386346</td>\n",
              "      <td>0.476997</td>\n",
              "      <td>1.003103</td>\n",
              "      <td>0.412188</td>\n",
              "      <td>0.335775</td>\n",
              "      <td>6035.008001</td>\n",
              "      <td>2872.763920</td>\n",
              "      <td>86.301415</td>\n",
              "      <td>62.817346</td>\n",
              "      <td>0.416411</td>\n",
              "      <td>0.788912</td>\n",
              "      <td>NaN</td>\n",
              "    </tr>\n",
              "    <tr>\n",
              "      <th>min</th>\n",
              "      <td>1.000000</td>\n",
              "      <td>0.000000</td>\n",
              "      <td>0.000000</td>\n",
              "      <td>0.000000</td>\n",
              "      <td>0.000000</td>\n",
              "      <td>150.000000</td>\n",
              "      <td>0.000000</td>\n",
              "      <td>9.000000</td>\n",
              "      <td>12.000000</td>\n",
              "      <td>0.000000</td>\n",
              "      <td>1.000000</td>\n",
              "      <td>NaN</td>\n",
              "    </tr>\n",
              "    <tr>\n",
              "      <th>25%</th>\n",
              "      <td>1.000000</td>\n",
              "      <td>0.000000</td>\n",
              "      <td>0.000000</td>\n",
              "      <td>1.000000</td>\n",
              "      <td>0.000000</td>\n",
              "      <td>2875.000000</td>\n",
              "      <td>0.000000</td>\n",
              "      <td>101.250000</td>\n",
              "      <td>333.000000</td>\n",
              "      <td>1.000000</td>\n",
              "      <td>1.000000</td>\n",
              "      <td>NaN</td>\n",
              "    </tr>\n",
              "    <tr>\n",
              "      <th>50%</th>\n",
              "      <td>1.000000</td>\n",
              "      <td>1.000000</td>\n",
              "      <td>0.000000</td>\n",
              "      <td>1.000000</td>\n",
              "      <td>0.000000</td>\n",
              "      <td>3812.500000</td>\n",
              "      <td>1221.000000</td>\n",
              "      <td>128.000000</td>\n",
              "      <td>360.000000</td>\n",
              "      <td>1.000000</td>\n",
              "      <td>2.000000</td>\n",
              "      <td>NaN</td>\n",
              "    </tr>\n",
              "    <tr>\n",
              "      <th>75%</th>\n",
              "      <td>1.000000</td>\n",
              "      <td>1.000000</td>\n",
              "      <td>1.000000</td>\n",
              "      <td>1.000000</td>\n",
              "      <td>0.000000</td>\n",
              "      <td>5741.000000</td>\n",
              "      <td>2305.000000</td>\n",
              "      <td>168.000000</td>\n",
              "      <td>360.000000</td>\n",
              "      <td>1.000000</td>\n",
              "      <td>3.000000</td>\n",
              "      <td>NaN</td>\n",
              "    </tr>\n",
              "    <tr>\n",
              "      <th>max</th>\n",
              "      <td>2.000000</td>\n",
              "      <td>1.000000</td>\n",
              "      <td>3.000000</td>\n",
              "      <td>1.000000</td>\n",
              "      <td>1.000000</td>\n",
              "      <td>81000.000000</td>\n",
              "      <td>41667.000000</td>\n",
              "      <td>700.000000</td>\n",
              "      <td>480.000000</td>\n",
              "      <td>1.000000</td>\n",
              "      <td>3.000000</td>\n",
              "      <td>NaN</td>\n",
              "    </tr>\n",
              "  </tbody>\n",
              "</table>\n",
              "</div>\n",
              "      <button class=\"colab-df-convert\" onclick=\"convertToInteractive('df-31b9a49c-6e83-4281-a9ae-374830409f56')\"\n",
              "              title=\"Convert this dataframe to an interactive table.\"\n",
              "              style=\"display:none;\">\n",
              "        \n",
              "  <svg xmlns=\"http://www.w3.org/2000/svg\" height=\"24px\"viewBox=\"0 0 24 24\"\n",
              "       width=\"24px\">\n",
              "    <path d=\"M0 0h24v24H0V0z\" fill=\"none\"/>\n",
              "    <path d=\"M18.56 5.44l.94 2.06.94-2.06 2.06-.94-2.06-.94-.94-2.06-.94 2.06-2.06.94zm-11 1L8.5 8.5l.94-2.06 2.06-.94-2.06-.94L8.5 2.5l-.94 2.06-2.06.94zm10 10l.94 2.06.94-2.06 2.06-.94-2.06-.94-.94-2.06-.94 2.06-2.06.94z\"/><path d=\"M17.41 7.96l-1.37-1.37c-.4-.4-.92-.59-1.43-.59-.52 0-1.04.2-1.43.59L10.3 9.45l-7.72 7.72c-.78.78-.78 2.05 0 2.83L4 21.41c.39.39.9.59 1.41.59.51 0 1.02-.2 1.41-.59l7.78-7.78 2.81-2.81c.8-.78.8-2.07 0-2.86zM5.41 20L4 18.59l7.72-7.72 1.47 1.35L5.41 20z\"/>\n",
              "  </svg>\n",
              "      </button>\n",
              "      \n",
              "  <style>\n",
              "    .colab-df-container {\n",
              "      display:flex;\n",
              "      flex-wrap:wrap;\n",
              "      gap: 12px;\n",
              "    }\n",
              "\n",
              "    .colab-df-convert {\n",
              "      background-color: #E8F0FE;\n",
              "      border: none;\n",
              "      border-radius: 50%;\n",
              "      cursor: pointer;\n",
              "      display: none;\n",
              "      fill: #1967D2;\n",
              "      height: 32px;\n",
              "      padding: 0 0 0 0;\n",
              "      width: 32px;\n",
              "    }\n",
              "\n",
              "    .colab-df-convert:hover {\n",
              "      background-color: #E2EBFA;\n",
              "      box-shadow: 0px 1px 2px rgba(60, 64, 67, 0.3), 0px 1px 3px 1px rgba(60, 64, 67, 0.15);\n",
              "      fill: #174EA6;\n",
              "    }\n",
              "\n",
              "    [theme=dark] .colab-df-convert {\n",
              "      background-color: #3B4455;\n",
              "      fill: #D2E3FC;\n",
              "    }\n",
              "\n",
              "    [theme=dark] .colab-df-convert:hover {\n",
              "      background-color: #434B5C;\n",
              "      box-shadow: 0px 1px 3px 1px rgba(0, 0, 0, 0.15);\n",
              "      filter: drop-shadow(0px 1px 2px rgba(0, 0, 0, 0.3));\n",
              "      fill: #FFFFFF;\n",
              "    }\n",
              "  </style>\n",
              "\n",
              "      <script>\n",
              "        const buttonEl =\n",
              "          document.querySelector('#df-31b9a49c-6e83-4281-a9ae-374830409f56 button.colab-df-convert');\n",
              "        buttonEl.style.display =\n",
              "          google.colab.kernel.accessAllowed ? 'block' : 'none';\n",
              "\n",
              "        async function convertToInteractive(key) {\n",
              "          const element = document.querySelector('#df-31b9a49c-6e83-4281-a9ae-374830409f56');\n",
              "          const dataTable =\n",
              "            await google.colab.kernel.invokeFunction('convertToInteractive',\n",
              "                                                     [key], {});\n",
              "          if (!dataTable) return;\n",
              "\n",
              "          const docLinkHtml = 'Like what you see? Visit the ' +\n",
              "            '<a target=\"_blank\" href=https://colab.research.google.com/notebooks/data_table.ipynb>data table notebook</a>'\n",
              "            + ' to learn more about interactive tables.';\n",
              "          element.innerHTML = '';\n",
              "          dataTable['output_type'] = 'display_data';\n",
              "          await google.colab.output.renderOutput(dataTable, element);\n",
              "          const docLink = document.createElement('div');\n",
              "          docLink.innerHTML = docLinkHtml;\n",
              "          element.appendChild(docLink);\n",
              "        }\n",
              "      </script>\n",
              "    </div>\n",
              "  </div>\n",
              "  "
            ],
            "text/plain": [
              "            Gender     Married  ...  Property_Area  Loan_Status\n",
              "count   642.000000  642.000000  ...     642.000000          642\n",
              "unique         NaN         NaN  ...            NaN            2\n",
              "top            NaN         NaN  ...            NaN            Y\n",
              "freq           NaN         NaN  ...            NaN          444\n",
              "mean      1.182243    0.651090  ...       1.959502          NaN\n",
              "std       0.386346    0.476997  ...       0.788912          NaN\n",
              "min       1.000000    0.000000  ...       1.000000          NaN\n",
              "25%       1.000000    0.000000  ...       1.000000          NaN\n",
              "50%       1.000000    1.000000  ...       2.000000          NaN\n",
              "75%       1.000000    1.000000  ...       3.000000          NaN\n",
              "max       2.000000    1.000000  ...       3.000000          NaN\n",
              "\n",
              "[11 rows x 12 columns]"
            ]
          },
          "metadata": {},
          "execution_count": 16
        }
      ]
    },
    {
      "cell_type": "markdown",
      "source": [
        "Lastly check that each column has the datatypes we would expect."
      ],
      "metadata": {
        "id": "xmsqjQClEN4J"
      }
    },
    {
      "cell_type": "code",
      "source": [
        "#check data types in df\n",
        "\n",
        "df.info()"
      ],
      "metadata": {
        "colab": {
          "base_uri": "https://localhost:8080/"
        },
        "id": "cP4ToAdXnjsc",
        "outputId": "ed270d23-278f-4a15-8b3f-058626de995d"
      },
      "execution_count": 17,
      "outputs": [
        {
          "output_type": "stream",
          "name": "stdout",
          "text": [
            "<class 'pandas.core.frame.DataFrame'>\n",
            "Int64Index: 642 entries, 1002 to 2990\n",
            "Data columns (total 12 columns):\n",
            " #   Column             Non-Null Count  Dtype  \n",
            "---  ------             --------------  -----  \n",
            " 0   Gender             642 non-null    int64  \n",
            " 1   Married            642 non-null    int64  \n",
            " 2   Dependents         642 non-null    int64  \n",
            " 3   Graduate           642 non-null    int64  \n",
            " 4   Self_Employed      642 non-null    int64  \n",
            " 5   ApplicantIncome    642 non-null    int64  \n",
            " 6   CoapplicantIncome  642 non-null    float64\n",
            " 7   LoanAmount         642 non-null    int64  \n",
            " 8   Loan_Amount_Term   642 non-null    int64  \n",
            " 9   Credit_History     642 non-null    int64  \n",
            " 10  Property_Area      642 non-null    int64  \n",
            " 11  Loan_Status        642 non-null    object \n",
            "dtypes: float64(1), int64(10), object(1)\n",
            "memory usage: 65.2+ KB\n"
          ]
        }
      ]
    },
    {
      "cell_type": "markdown",
      "source": [
        "# Exploratory Data Analysis\n",
        "\n",
        "In this section we're going to do some exploratory data analysis to get better acquainted with this particular data set. To help understand the characteristics of this data set we're going to use some visualisations using Python's Matplotlib library.\n",
        "\n",
        "We start by checking the distribution of values for certain variables, to see for example if there are any outliers that we need to consider."
      ],
      "metadata": {
        "id": "pnpfjk0arCqh"
      }
    },
    {
      "cell_type": "code",
      "source": [
        "# define functions to plot different views as part of the exploratory data analysis\n",
        "\n",
        "def histogram_median_mean(x, feature_name):\n",
        "    plt.rcParams[\"figure.figsize\"] = (8,6)\n",
        "    result = plt.hist(x, bins='auto', color='#b887ed', alpha=0.9)\n",
        "    plt.axvline(x.mean(), color='k', linestyle='dashed',linewidth=1, label=x.mean)\n",
        "    plt.axvline(x.median(), color='k', linestyle='solid',linewidth=1, label=x.median)\n",
        "    plt.title('{} '.format(feature_name)+\"Distribution with Median (solid)\\n and Mean (dashed) lines\")\n",
        "    plt.xlabel('{} '.format(feature_name))\n",
        "    plt.ylabel(\"Frequency\")\n",
        "    plt.text(x.mean()*1.1, 23,'Mean Applicant Income: {:.0f}'.format(x.mean()))\n",
        "    plt.text(x.median()*1.1, 10, 'Median Applicant Income: {:.0f}'.format(x.median()))\n",
        "    plt.show()\n",
        "\n",
        "def pie_chart_2(x_yes, x_no, y_yes, y_no, x_label, y_label):\n",
        "\n",
        "  # Display 2 pie plots side by side\n",
        "\n",
        "  fig, (ax1,ax2) = plt.subplots(1,2, figsize=(12,12))\n",
        "\n",
        "  # Create a pieplot for x variable\n",
        "\n",
        "  values=[x_yes, x_no]\n",
        "  labels = \"Number of \"+'{} '.format(x_label)+\"\\napproved (\"+str(x_yes)+\")\",\"Number of \"+'{} '.format(x_label)+\"\\nNot approved (\"+str(x_no)+\")\"\n",
        "  explode = (0, 0.1) # only explode the 2nd slice \"No Approved\"\n",
        "  colors = ['#b887ed', '#ffd335']\n",
        "\n",
        "  ax1.pie(values, explode=explode, colors=colors,\n",
        "          shadow=True, startangle=90, autopct='%1.1f%%', textprops={'size':'medium', 'color' : 'black'})\n",
        "  ax1.axis('equal')  # Equal aspect ratio ensures that pie is drawn as a circle.\n",
        "  ax1.set_title('Distribution of '+ '{} '.format(x_label) +'\\nApprovals', fontsize=15, color='black', weight='bold', pad=20)\n",
        "  ax1.legend(labels, loc='best', prop={'size': 8})\n",
        "  ax1.axis('equal')\n",
        "\n",
        "# Create a pieplot for y variable\n",
        "\n",
        "  values=[y_yes, y_no]\n",
        "  labels = \"Number of \"+'{} '.format(y_label)+\"\\napproved (\"+str(y_yes)+\")\",\"Number of \"+'{} '.format(y_label)+\"\\nNot approved (\"+str(y_no)+\")\"\n",
        "  explode = (0, 0.1) # only explode the 2nd slice \"No Approved\"\n",
        "  colors = ['#b887ed', '#ffd335']\n",
        "\n",
        "  ax2.pie(values, explode=explode, colors=colors,\n",
        "          shadow=True, startangle=90, autopct='%1.1f%%', textprops={'size':'medium', 'color' : 'black'})\n",
        "  ax2.axis('equal')  # Equal aspect ratio ensures that pie is drawn as a circle.\n",
        "  ax2.set_title('Distribution of '+ '{} '.format(y_label) +'\\nApprovals', fontsize=15, color='black', weight='bold', pad=20)\n",
        "  ax2.legend(labels, loc='best', prop={'size': 8})\n",
        "  ax2.axis('equal')\n",
        "\n",
        "  plt.show()\n"
      ],
      "metadata": {
        "id": "zy1AfsPC3hCV"
      },
      "execution_count": 18,
      "outputs": []
    },
    {
      "cell_type": "code",
      "source": [
        "histogram_median_mean(df['ApplicantIncome'], \"Applicant Income\")"
      ],
      "metadata": {
        "colab": {
          "base_uri": "https://localhost:8080/",
          "height": 419
        },
        "id": "43e0VXd65h2u",
        "outputId": "9ab64412-d872-4655-dc92-7853cda8193a"
      },
      "execution_count": 19,
      "outputs": [
        {
          "output_type": "display_data",
          "data": {
            "image/png": "[encoded data removed]",
            "text/plain": [
              "<Figure size 576x432 with 1 Axes>"
            ]
          },
          "metadata": {
            "needs_background": "light"
          }
        }
      ]
    },
    {
      "cell_type": "markdown",
      "source": [
        "There's a significant difference between the median and mean \"Applicant Income\" and as we can see from the histogram there are some outliers that are bringing the mean \"Applicant Income\" higher. Let's see if it is the same with \"Coapplicant Income\"."
      ],
      "metadata": {
        "id": "sSjZH4zWrZQn"
      }
    },
    {
      "cell_type": "code",
      "source": [
        "histogram_median_mean(df['CoapplicantIncome'], 'Coapplicant Income')"
      ],
      "metadata": {
        "colab": {
          "base_uri": "https://localhost:8080/",
          "height": 419
        },
        "id": "NM7BF43r61lw",
        "outputId": "bb98bc68-ec88-4e1a-eacf-ad0a07af52df"
      },
      "execution_count": 20,
      "outputs": [
        {
          "output_type": "display_data",
          "data": {
            "image/png": "[encoded data removed]",
            "text/plain": [
              "<Figure size 576x432 with 1 Axes>"
            ]
          },
          "metadata": {
            "needs_background": "light"
          }
        }
      ]
    },
    {
      "cell_type": "markdown",
      "source": [
        "\"CoApplicant Income\" does have some outliers too. If we compare the % difference between mean and median values for \"Applicant Income\" and \"CoApplicant Income\" we see that they are quite similar."
      ],
      "metadata": {
        "id": "Lwql4DeDE3kr"
      }
    },
    {
      "cell_type": "code",
      "source": [
        "# check % difference between Applicant Income and Coapplicant Income \"mean\" and \"median\" values\n",
        "\n",
        "x = df['ApplicantIncome']\n",
        "\n",
        "y = df['CoapplicantIncome']\n",
        "\n",
        "x_diff = ((x.mean()/x.median())-1)*100\n",
        "y_diff = ((y.mean()/y.median())-1)*100\n",
        "\n",
        "print(\"The % difference between mean and median Applicant Income is \"+str(\"%.2f%%\"%x_diff))\n",
        "print(\"The % difference between mean and median Coapplicant Income is \"+str(\"%.2f%%\"%y_diff))"
      ],
      "metadata": {
        "colab": {
          "base_uri": "https://localhost:8080/"
        },
        "id": "4AYvNFhQsF0X",
        "outputId": "9aebaa7f-30b6-4750-fe5e-a2344761efd4"
      },
      "execution_count": 21,
      "outputs": [
        {
          "output_type": "stream",
          "name": "stdout",
          "text": [
            "The % difference between mean and median Applicant Income is 40.86%\n",
            "The % difference between mean and median Coapplicant Income is 31.81%\n"
          ]
        }
      ]
    },
    {
      "cell_type": "markdown",
      "source": [
        "In both cases, the mean is significantly higher than the median.\n",
        "\n",
        "Let's continue by checking the distribution of \"Loan Amount\"."
      ],
      "metadata": {
        "id": "0OcXXSWjuOyI"
      }
    },
    {
      "cell_type": "code",
      "source": [
        "histogram_median_mean(df['LoanAmount'], 'Loan Amount')"
      ],
      "metadata": {
        "colab": {
          "base_uri": "https://localhost:8080/",
          "height": 419
        },
        "id": "PeeqWkun7Pv_",
        "outputId": "ce544dcf-4948-4cff-f3de-44168cd4d984"
      },
      "execution_count": 22,
      "outputs": [
        {
          "output_type": "display_data",
          "data": {
            "image/png": "[encoded data removed]",
            "text/plain": [
              "<Figure size 576x432 with 1 Axes>"
            ]
          },
          "metadata": {
            "needs_background": "light"
          }
        }
      ]
    },
    {
      "cell_type": "markdown",
      "source": [
        "There are some outliers as well in \"Loan Amount\" but they are much closer to the median than in the case of \"Applicant Income\" and \"CoApplicant Income\".\n",
        "\n",
        "Next let's check the average loan approval rate to then contextualize the approval rate of some of the other variables in the data set."
      ],
      "metadata": {
        "id": "bNXJIDbbuhS4"
      }
    },
    {
      "cell_type": "code",
      "metadata": {
        "colab": {
          "base_uri": "https://localhost:8080/"
        },
        "id": "qysO6UUu4bKS",
        "outputId": "a30e4fa5-3e7d-43d6-bb48-0cff6b2d3cc1"
      },
      "source": [
        "# average loan approvals\n",
        "\n",
        "approved = sum(1 for i in df[\"Loan_Status\"] if i == \"Y\")\n",
        "not_approved = sum(1 for i in df[\"Loan_Status\"] if i == \"N\")\n",
        "\n",
        "approval_rate = approved/(approved+not_approved)*100\n",
        "print(\"Percentage of loan approvals is \"+str(\"%.0f%%\"%approval_rate))"
      ],
      "execution_count": 23,
      "outputs": [
        {
          "output_type": "stream",
          "name": "stdout",
          "text": [
            "Percentage of loan approvals is 69%\n"
          ]
        }
      ]
    },
    {
      "cell_type": "markdown",
      "source": [
        "Now let's look at more specific data, starting with the \"Applicant Income\" distribution for self-employed applicants and applicants who are NOT self-employed."
      ],
      "metadata": {
        "id": "i_Toz0PlGBow"
      }
    },
    {
      "cell_type": "code",
      "source": [
        "df_self_employed = df.loc[df[\"Self_Employed\"]==1]\n",
        "\n",
        "x = df_self_employed['ApplicantIncome']\n",
        "\n",
        "histogram_median_mean(x, \"Self-Employed Applicant Income\")"
      ],
      "metadata": {
        "colab": {
          "base_uri": "https://localhost:8080/",
          "height": 419
        },
        "id": "FMa6LJ7K-7L7",
        "outputId": "0f33c195-92ba-44cd-dd2b-e4e37d1fa453"
      },
      "execution_count": 24,
      "outputs": [
        {
          "output_type": "display_data",
          "data": {
            "image/png": "[encoded data removed]",
            "text/plain": [
              "<Figure size 576x432 with 1 Axes>"
            ]
          },
          "metadata": {
            "needs_background": "light"
          }
        }
      ]
    },
    {
      "cell_type": "markdown",
      "source": [
        "Interestingly, when we filter the data set to look only at self-employed applicants we observe that there aren't too many outliers. So the outliers we've seen before must come from the applicants who are not self-employed. Let's plot a histogram for those to verify."
      ],
      "metadata": {
        "id": "38eogLKwGWsL"
      }
    },
    {
      "cell_type": "code",
      "source": [
        "df_self_employed = df.loc[df[\"Self_Employed\"]==0]\n",
        "\n",
        "x = df_self_employed['ApplicantIncome']\n",
        "\n",
        "histogram_median_mean(x, \"Non self-Employed Applicant Income\")"
      ],
      "metadata": {
        "colab": {
          "base_uri": "https://localhost:8080/",
          "height": 419
        },
        "id": "ZKstkx9U_fFc",
        "outputId": "f360fa05-00c1-4318-c9fe-44abc75fa482"
      },
      "execution_count": 25,
      "outputs": [
        {
          "output_type": "display_data",
          "data": {
            "image/png": "[encoded data removed]",
            "text/plain": [
              "<Figure size 576x432 with 1 Axes>"
            ]
          },
          "metadata": {
            "needs_background": "light"
          }
        }
      ]
    },
    {
      "cell_type": "markdown",
      "source": [
        "And as expected, most of the outliers in \"Applicant Income\" come from non self-employed applicants.\n",
        "\n",
        "Let's repeat the same exercise for other variables such as Graduates."
      ],
      "metadata": {
        "id": "Ag-lrHtDG3xi"
      }
    },
    {
      "cell_type": "code",
      "source": [
        "df_graduate = df.loc[df[\"Graduate\"]==1]\n",
        "\n",
        "x = df_graduate['ApplicantIncome']\n",
        "\n",
        "histogram_median_mean(x, \"Graduate Applicant Income\")"
      ],
      "metadata": {
        "colab": {
          "base_uri": "https://localhost:8080/",
          "height": 419
        },
        "id": "L6La_Wjk_mU0",
        "outputId": "ca220f22-fcb2-441f-b21f-80065b49a475"
      },
      "execution_count": 26,
      "outputs": [
        {
          "output_type": "display_data",
          "data": {
            "image/png": "[encoded data removed]",
            "text/plain": [
              "<Figure size 576x432 with 1 Axes>"
            ]
          },
          "metadata": {
            "needs_background": "light"
          }
        }
      ]
    },
    {
      "cell_type": "markdown",
      "source": [
        "In order to run unbiased machine learning algorithms it is important to understand the characteristics of the data set in use. The author wouldn't want to skew the results of the algorithm by including any type of bias in the resulting classification algorithm. To that end I'd like to understand if there are any significant differences in the loan approval rates between female and male applicants. "
      ],
      "metadata": {
        "id": "gLjcO4Hhu26q"
      }
    },
    {
      "cell_type": "code",
      "source": [
        "# stats of loan approvals by gender\n",
        "\n",
        "x_yes = sum(1 for i, j in zip(df['Gender'], df[\"Loan_Status\"]) if i == 2 and j == \"Y\")\n",
        "\n",
        "x_no = sum(1 for i, j in zip(df['Gender'], df[\"Loan_Status\"]) if i == 2 and j == \"N\")\n",
        "\n",
        "y_yes = sum(1 for i, j in zip(df['Gender'], df[\"Loan_Status\"]) if i == 1 and j == \"Y\")\n",
        "\n",
        "y_no = sum(1 for i, j in zip(df['Gender'], df[\"Loan_Status\"]) if i == 1 and j == \"N\")\n",
        "\n",
        "x_label = \"Female Loans\"\n",
        "\n",
        "y_label = \"Male Loans\"\n",
        "\n",
        "pie_chart_2(x_yes, x_no, y_yes, y_no, x_label, y_label)"
      ],
      "metadata": {
        "colab": {
          "base_uri": "https://localhost:8080/",
          "height": 733
        },
        "id": "UNUFvcDpEpvz",
        "outputId": "51cc2516-50f3-487d-949b-324043f44e2a"
      },
      "execution_count": 27,
      "outputs": [
        {
          "output_type": "display_data",
          "data": {
            "image/png": "[encoded data removed]",
            "text/plain": [
              "<Figure size 864x864 with 2 Axes>"
            ]
          },
          "metadata": {}
        }
      ]
    },
    {
      "cell_type": "markdown",
      "source": [
        "It looks like there's less than 1% difference between the loan approval rates for Females and Males. The author considers that this allows us to feed this variable to the classification algorithms we're going to run later on.\n",
        "\n",
        "Let's repeat the same exercise for other variables such as \"Graduate\"."
      ],
      "metadata": {
        "id": "geeElpQUHyHs"
      }
    },
    {
      "cell_type": "code",
      "metadata": {
        "colab": {
          "base_uri": "https://localhost:8080/",
          "height": 733
        },
        "id": "7aM_4l4j24VX",
        "outputId": "22522442-6d96-4fcd-a4ed-0dd7ce8c0d90"
      },
      "source": [
        "# stats of loan approvals by Graduate status\n",
        "\n",
        "x_yes = sum(1 for i, j in zip(df['Graduate'], df[\"Loan_Status\"]) if i == 1 and j == \"Y\")\n",
        "\n",
        "x_no = sum(1 for i, j in zip(df['Graduate'], df[\"Loan_Status\"]) if i == 1 and j == \"N\")\n",
        "\n",
        "y_yes = sum(1 for i, j in zip(df['Graduate'], df[\"Loan_Status\"]) if i == 0 and j == \"Y\")\n",
        "\n",
        "y_no = sum(1 for i, j in zip(df['Graduate'], df[\"Loan_Status\"]) if i == 0 and j == \"N\")\n",
        "\n",
        "x_label = \"Graduate Loans\"\n",
        "\n",
        "y_label = \"Non-graduate Loans\"\n",
        "\n",
        "pie_chart_2(x_yes, x_no, y_yes, y_no, x_label, y_label)\n",
        "\n"
      ],
      "execution_count": 28,
      "outputs": [
        {
          "output_type": "display_data",
          "data": {
            "image/png": "[encoded data removed]",
            "text/plain": [
              "<Figure size 864x864 with 2 Axes>"
            ]
          },
          "metadata": {}
        }
      ]
    },
    {
      "cell_type": "markdown",
      "source": [
        "There's a significant difference in the approval rates for graduates and non-graduates so it will be important take this variable into account when we run the classification algorithm.\n",
        "\n",
        "Let's repeat the same excercise for \"Credit History\"."
      ],
      "metadata": {
        "id": "NWyiLK5rIXg0"
      }
    },
    {
      "cell_type": "code",
      "metadata": {
        "colab": {
          "base_uri": "https://localhost:8080/",
          "height": 733
        },
        "id": "dA0cZq0U6aOo",
        "outputId": "b15238f9-c291-46f2-addf-c7183a2f5f5a"
      },
      "source": [
        "# stats of loan approvals by Credit History\n",
        "\n",
        "x_yes = sum(1 for i, j in zip(df['Credit_History'], df[\"Loan_Status\"]) if i == 1 and j == \"Y\")\n",
        "\n",
        "x_no = sum(1 for i, j in zip(df['Credit_History'], df[\"Loan_Status\"]) if i == 1 and j == \"N\")\n",
        "\n",
        "y_yes = sum(1 for i, j in zip(df['Credit_History'], df[\"Loan_Status\"]) if i == 0 and j == \"Y\")\n",
        "\n",
        "y_no = sum(1 for i, j in zip(df['Credit_History'], df[\"Loan_Status\"]) if i == 0 and j == \"N\")\n",
        "\n",
        "x_label = \"Credit History Loans\"\n",
        "\n",
        "y_label = \"No Credit History Loans\"\n",
        "\n",
        "pie_chart_2(x_yes, x_no, y_yes, y_no, x_label, y_label)"
      ],
      "execution_count": 29,
      "outputs": [
        {
          "output_type": "display_data",
          "data": {
            "image/png": "[encoded data removed]",
            "text/plain": [
              "<Figure size 864x864 with 2 Axes>"
            ]
          },
          "metadata": {}
        }
      ]
    },
    {
      "cell_type": "markdown",
      "source": [
        "\"Credit History\" does show a very significant difference in approval rates between those who have one and those who don't.\n",
        "\n",
        "Lastly let's look at approval rates by \"Property Area\"."
      ],
      "metadata": {
        "id": "0CKA7czEImVO"
      }
    },
    {
      "cell_type": "code",
      "metadata": {
        "colab": {
          "base_uri": "https://localhost:8080/"
        },
        "id": "kP_2gDmq4Ko1",
        "outputId": "de5dcf31-72fd-47ea-e580-1a579296cecb"
      },
      "source": [
        "# stats of loan approvals by property area\n",
        "\n",
        "urban_approved = sum(1 for i, j in zip(df['Property_Area'], df[\"Loan_Status\"]) if i == 1 and j == \"Y\")\n",
        "urban_not_approved = sum(1 for i, j in zip(df['Property_Area'], df[\"Loan_Status\"]) if i == 1 and j == \"N\")\n",
        "semiurban_approved = sum(1 for i, j in zip(df['Property_Area'], df[\"Loan_Status\"]) if i == 2 and j == \"Y\")\n",
        "semiurban_not_approved = sum(1 for i, j in zip(df['Property_Area'], df[\"Loan_Status\"]) if i == 2 and j == \"N\")\n",
        "rural_approved = sum(1 for i, j in zip(df['Property_Area'], df[\"Loan_Status\"]) if i == 3 and j == \"Y\")\n",
        "rural_not_approved = sum(1 for i, j in zip(df['Property_Area'], df[\"Loan_Status\"]) if i == 3 and j == \"N\")\n",
        "\n",
        "urban_approval_rate = urban_approved/(urban_approved+urban_not_approved)*100\n",
        "semiurban_approval_rate = semiurban_approved/(semiurban_approved+semiurban_not_approved)*100\n",
        "rural_approval_rate = rural_approved/(rural_approved+rural_not_approved)*100\n",
        "\n",
        "print(\"Percentage of loan approvals in Urban areas is \"+str(\"%.0f%%\"%urban_approval_rate))\n",
        "print(\"Percentage of loan approvals in Semi-Urban areas is \"+str(\"%.0f%%\"%semiurban_approval_rate))\n",
        "print(\"Percentage of loan approvals in Rural areas is \"+str(\"%.0f%%\"%rural_approval_rate))"
      ],
      "execution_count": 30,
      "outputs": [
        {
          "output_type": "stream",
          "name": "stdout",
          "text": [
            "Percentage of loan approvals in Urban areas is 66%\n",
            "Percentage of loan approvals in Semi-Urban areas is 77%\n",
            "Percentage of loan approvals in Rural areas is 63%\n"
          ]
        }
      ]
    },
    {
      "cell_type": "markdown",
      "source": [
        "# Simple Prediction for Future Loan Applications\n",
        "\n",
        "In this section we're going use a few classification algorithms to help automate the process of Loan Approvals. To do this we're going to rely mostly on the Scikit-Learn library which has many built-in algorithms and tools to aide in the data preprocessing and the evaluation of the results.\n",
        "\n",
        "Before we start training the classification algorithms let's define the Independent and Target variables, encode the target variable \"Loan_Status\" into a numerical value and split the data into train and test buckets."
      ],
      "metadata": {
        "id": "Uqo19ZpDy6Jq"
      }
    },
    {
      "cell_type": "code",
      "source": [
        "# first define the independent variables and target variable\n",
        "\n",
        "X = df[['Gender','Married', 'Self_Employed', 'Graduate', 'Credit_History', 'Property_Area']]\n",
        "y = df['Loan_Status']"
      ],
      "metadata": {
        "id": "uY86sxDS0SAq"
      },
      "execution_count": 31,
      "outputs": []
    },
    {
      "cell_type": "code",
      "source": [
        "# encode target variable so that it's a number.\n",
        "\n",
        "from sklearn.preprocessing import LabelEncoder\n",
        "\n",
        "y = LabelEncoder().fit_transform(y.astype('str'))"
      ],
      "metadata": {
        "id": "K1H8TZzTOb5i"
      },
      "execution_count": 32,
      "outputs": []
    },
    {
      "cell_type": "code",
      "source": [
        "# split data into test and train sets, test set is going to be 20%\n",
        "\n",
        "from sklearn.model_selection import train_test_split\n",
        "\n",
        "X_train, X_test, y_train, y_test = train_test_split(X, y, test_size=0.2, random_state=0)"
      ],
      "metadata": {
        "id": "N3tfd46Q1tH9"
      },
      "execution_count": 33,
      "outputs": []
    },
    {
      "cell_type": "markdown",
      "source": [
        "At this point we're ready to import the different classifiers we're going to use to automate the process of loan approval. As previously mentioned, we're going to use Scikit-learn for this."
      ],
      "metadata": {
        "id": "W9Waagl-MUtt"
      }
    },
    {
      "cell_type": "code",
      "source": [
        "# import models that we're going to use\n",
        "\n",
        "from sklearn.tree import DecisionTreeClassifier\n",
        "from sklearn.ensemble import RandomForestClassifier\n",
        "from sklearn.linear_model import LogisticRegression\n",
        "from sklearn.ensemble import GradientBoostingClassifier\n",
        "from sklearn.neighbors import KNeighborsClassifier\n",
        "from sklearn.svm import SVC\n",
        "from sklearn import metrics"
      ],
      "metadata": {
        "id": "ttNTt-An4Kdt"
      },
      "execution_count": 34,
      "outputs": []
    },
    {
      "cell_type": "markdown",
      "source": [
        "We're going to create a dictionary with the name of each algorithm and its classifier. This will allow the author and future data scientists working on this project to add or remove algorithms and be able to compare the performance without changing much code. \n",
        "\n",
        "Once we've created the \"classifiers\" dictionary we're going to loop through it and train each of the classifiers with the training data."
      ],
      "metadata": {
        "id": "AUHiovZSMkia"
      }
    },
    {
      "cell_type": "code",
      "source": [
        "# create a \"classifiers\" dictionary and loop through it to train each of the classifiers within\n",
        "\n",
        "classifiers = {\"Decision Tree\": DecisionTreeClassifier(),\n",
        "               \"Random Forest\": RandomForestClassifier(),\n",
        "               \"Logistic Regression\":LogisticRegression(),\n",
        "               \"Gradient Boosting Classifier\": GradientBoostingClassifier(),\n",
        "               \"KNeighbors\" : KNeighborsClassifier(),\n",
        "               \"Support Vector Machines\": SVC()}\n",
        "\n",
        "for key, classifier in classifiers.items():\n",
        "    classifier.fit(X_train, y_train)"
      ],
      "metadata": {
        "id": "MsMz8Lue9iNy"
      },
      "execution_count": 35,
      "outputs": []
    },
    {
      "cell_type": "markdown",
      "source": [
        "Now that we've trained the different algorithms we can visualize the first results. We will import skickit-learn's ConfusionMatrixDisplay to look at the True Negatives, False Negatives, True Positives and False Positives by algorithm.\n",
        "\n",
        "To do that with less code we're going to run a for loop through the values in the \"classifiers\" dictionary (the regressors) and create a confusion matrix for each of them. We're going to display all the matrices in one row to make it easier to compare and we're going to have as many columns as the number of algorithms in the \"classifiers\" dictionary."
      ],
      "metadata": {
        "id": "ivpsg_FDOV3q"
      }
    },
    {
      "cell_type": "code",
      "source": [
        "# create subplot and iterate over the classifiers and axes\n",
        "\n",
        "from sklearn.metrics import ConfusionMatrixDisplay\n",
        "\n",
        "fig, axes = plt.subplots(nrows=1, ncols=len(classifiers.keys()), figsize=(20,5))\n",
        "\n",
        "for classifier, ax in zip(classifiers.values(), axes.flatten()):\n",
        "    ConfusionMatrixDisplay.from_estimator(classifier, \n",
        "                                          X_test, \n",
        "                                          y_test, \n",
        "                                          ax=ax, \n",
        "                                          cmap='Blues')\n",
        "    ax.title.set_text(type(classifier).__name__)\n",
        "plt.tight_layout()  \n",
        "plt.show()"
      ],
      "metadata": {
        "colab": {
          "base_uri": "https://localhost:8080/",
          "height": 369
        },
        "id": "hgBccH_gBoO_",
        "outputId": "d608a719-e1d7-4bdf-b0ed-2ac02a913cdf"
      },
      "execution_count": 36,
      "outputs": [
        {
          "output_type": "display_data",
          "data": {
            "image/png": "[encoded data removed]",
            "text/plain": [
              "<Figure size 1440x360 with 12 Axes>"
            ]
          },
          "metadata": {
            "needs_background": "light"
          }
        }
      ]
    },
    {
      "cell_type": "markdown",
      "source": [
        "We can already see that some algorithms are very good at classifying \"loans approved\" as \"approved\" but at the same time have more difficulty classifying \"loands not approved\" as \"not approved\". \n",
        "\n",
        "To have a better sense of the performance of each algorithm, let's look at more specific performance metrics for classification algorithms. We're going to import them from sklearn.metrics.\n",
        "\n",
        "Again, to optimize time and code we're going to rely on for loops to first build a list of predictions from each algorithm. Once we have the list of predictions we're going to calculate the F1 Score, Recall Score, Precision Score, Accuracy Score and ROC AUC Score for each prediction (for each algoritm). Lastly we're going to build a new dataframe with the scores of each algorithm."
      ],
      "metadata": {
        "id": "D4niBTTGPmww"
      }
    },
    {
      "cell_type": "code",
      "source": [
        "# calculate recall, precision, accuracy, F-score, ROC\n",
        "\n",
        "from sklearn.metrics import accuracy_score, f1_score, recall_score, precision_score, roc_auc_score\n",
        "\n",
        "predictions = list()\n",
        "\n",
        "for classifier in classifiers.values():\n",
        "    p = classifier.predict(X_test)\n",
        "    predictions.append(p)\n",
        "\n",
        "results_df = pd.DataFrame(index=['F1', 'Recall', 'Precision', 'Accuracy Score', 'ROC AUC'],columns=classifiers.keys())\n",
        "\n",
        "for key, prediction in zip(classifiers.keys(), predictions):\n",
        "    f1 = round(f1_score(y_test,prediction),3)\n",
        "    recall = round(recall_score(y_test,prediction),3)\n",
        "    precision = round(precision_score(y_test,prediction),3)\n",
        "    accuracy = round(accuracy_score(y_test,prediction),3)\n",
        "    rocauc = round(roc_auc_score(y_test,prediction),3)\n",
        "    results_df[key] = ([f1, recall, precision, accuracy, rocauc])\n",
        "\n",
        "results_df.head()\n",
        "\n"
      ],
      "metadata": {
        "colab": {
          "base_uri": "https://localhost:8080/",
          "height": 206
        },
        "id": "Niz6s8rR8tKL",
        "outputId": "68a90ed8-20b1-4ebe-c850-a77c42501fd0"
      },
      "execution_count": 37,
      "outputs": [
        {
          "output_type": "execute_result",
          "data": {
            "text/html": [
              "\n",
              "  <div id=\"df-c13d97de-995e-4c72-b763-65f308749368\">\n",
              "    <div class=\"colab-df-container\">\n",
              "      <div>\n",
              "<style scoped>\n",
              "    .dataframe tbody tr th:only-of-type {\n",
              "        vertical-align: middle;\n",
              "    }\n",
              "\n",
              "    .dataframe tbody tr th {\n",
              "        vertical-align: top;\n",
              "    }\n",
              "\n",
              "    .dataframe thead th {\n",
              "        text-align: right;\n",
              "    }\n",
              "</style>\n",
              "<table border=\"1\" class=\"dataframe\">\n",
              "  <thead>\n",
              "    <tr style=\"text-align: right;\">\n",
              "      <th></th>\n",
              "      <th>Decision Tree</th>\n",
              "      <th>Random Forest</th>\n",
              "      <th>Logistic Regression</th>\n",
              "      <th>Gradient Boosting Classifier</th>\n",
              "      <th>KNeighbors</th>\n",
              "      <th>Support Vector Machines</th>\n",
              "    </tr>\n",
              "  </thead>\n",
              "  <tbody>\n",
              "    <tr>\n",
              "      <th>F1</th>\n",
              "      <td>0.872</td>\n",
              "      <td>0.867</td>\n",
              "      <td>0.863</td>\n",
              "      <td>0.863</td>\n",
              "      <td>0.832</td>\n",
              "      <td>0.863</td>\n",
              "    </tr>\n",
              "    <tr>\n",
              "      <th>Recall</th>\n",
              "      <td>0.885</td>\n",
              "      <td>0.917</td>\n",
              "      <td>0.885</td>\n",
              "      <td>0.885</td>\n",
              "      <td>0.823</td>\n",
              "      <td>0.885</td>\n",
              "    </tr>\n",
              "    <tr>\n",
              "      <th>Precision</th>\n",
              "      <td>0.859</td>\n",
              "      <td>0.822</td>\n",
              "      <td>0.842</td>\n",
              "      <td>0.842</td>\n",
              "      <td>0.840</td>\n",
              "      <td>0.842</td>\n",
              "    </tr>\n",
              "    <tr>\n",
              "      <th>Accuracy Score</th>\n",
              "      <td>0.806</td>\n",
              "      <td>0.791</td>\n",
              "      <td>0.791</td>\n",
              "      <td>0.791</td>\n",
              "      <td>0.752</td>\n",
              "      <td>0.791</td>\n",
              "    </tr>\n",
              "    <tr>\n",
              "      <th>ROC AUC</th>\n",
              "      <td>0.731</td>\n",
              "      <td>0.670</td>\n",
              "      <td>0.700</td>\n",
              "      <td>0.700</td>\n",
              "      <td>0.684</td>\n",
              "      <td>0.700</td>\n",
              "    </tr>\n",
              "  </tbody>\n",
              "</table>\n",
              "</div>\n",
              "      <button class=\"colab-df-convert\" onclick=\"convertToInteractive('df-c13d97de-995e-4c72-b763-65f308749368')\"\n",
              "              title=\"Convert this dataframe to an interactive table.\"\n",
              "              style=\"display:none;\">\n",
              "        \n",
              "  <svg xmlns=\"http://www.w3.org/2000/svg\" height=\"24px\"viewBox=\"0 0 24 24\"\n",
              "       width=\"24px\">\n",
              "    <path d=\"M0 0h24v24H0V0z\" fill=\"none\"/>\n",
              "    <path d=\"M18.56 5.44l.94 2.06.94-2.06 2.06-.94-2.06-.94-.94-2.06-.94 2.06-2.06.94zm-11 1L8.5 8.5l.94-2.06 2.06-.94-2.06-.94L8.5 2.5l-.94 2.06-2.06.94zm10 10l.94 2.06.94-2.06 2.06-.94-2.06-.94-.94-2.06-.94 2.06-2.06.94z\"/><path d=\"M17.41 7.96l-1.37-1.37c-.4-.4-.92-.59-1.43-.59-.52 0-1.04.2-1.43.59L10.3 9.45l-7.72 7.72c-.78.78-.78 2.05 0 2.83L4 21.41c.39.39.9.59 1.41.59.51 0 1.02-.2 1.41-.59l7.78-7.78 2.81-2.81c.8-.78.8-2.07 0-2.86zM5.41 20L4 18.59l7.72-7.72 1.47 1.35L5.41 20z\"/>\n",
              "  </svg>\n",
              "      </button>\n",
              "      \n",
              "  <style>\n",
              "    .colab-df-container {\n",
              "      display:flex;\n",
              "      flex-wrap:wrap;\n",
              "      gap: 12px;\n",
              "    }\n",
              "\n",
              "    .colab-df-convert {\n",
              "      background-color: #E8F0FE;\n",
              "      border: none;\n",
              "      border-radius: 50%;\n",
              "      cursor: pointer;\n",
              "      display: none;\n",
              "      fill: #1967D2;\n",
              "      height: 32px;\n",
              "      padding: 0 0 0 0;\n",
              "      width: 32px;\n",
              "    }\n",
              "\n",
              "    .colab-df-convert:hover {\n",
              "      background-color: #E2EBFA;\n",
              "      box-shadow: 0px 1px 2px rgba(60, 64, 67, 0.3), 0px 1px 3px 1px rgba(60, 64, 67, 0.15);\n",
              "      fill: #174EA6;\n",
              "    }\n",
              "\n",
              "    [theme=dark] .colab-df-convert {\n",
              "      background-color: #3B4455;\n",
              "      fill: #D2E3FC;\n",
              "    }\n",
              "\n",
              "    [theme=dark] .colab-df-convert:hover {\n",
              "      background-color: #434B5C;\n",
              "      box-shadow: 0px 1px 3px 1px rgba(0, 0, 0, 0.15);\n",
              "      filter: drop-shadow(0px 1px 2px rgba(0, 0, 0, 0.3));\n",
              "      fill: #FFFFFF;\n",
              "    }\n",
              "  </style>\n",
              "\n",
              "      <script>\n",
              "        const buttonEl =\n",
              "          document.querySelector('#df-c13d97de-995e-4c72-b763-65f308749368 button.colab-df-convert');\n",
              "        buttonEl.style.display =\n",
              "          google.colab.kernel.accessAllowed ? 'block' : 'none';\n",
              "\n",
              "        async function convertToInteractive(key) {\n",
              "          const element = document.querySelector('#df-c13d97de-995e-4c72-b763-65f308749368');\n",
              "          const dataTable =\n",
              "            await google.colab.kernel.invokeFunction('convertToInteractive',\n",
              "                                                     [key], {});\n",
              "          if (!dataTable) return;\n",
              "\n",
              "          const docLinkHtml = 'Like what you see? Visit the ' +\n",
              "            '<a target=\"_blank\" href=https://colab.research.google.com/notebooks/data_table.ipynb>data table notebook</a>'\n",
              "            + ' to learn more about interactive tables.';\n",
              "          element.innerHTML = '';\n",
              "          dataTable['output_type'] = 'display_data';\n",
              "          await google.colab.output.renderOutput(dataTable, element);\n",
              "          const docLink = document.createElement('div');\n",
              "          docLink.innerHTML = docLinkHtml;\n",
              "          element.appendChild(docLink);\n",
              "        }\n",
              "      </script>\n",
              "    </div>\n",
              "  </div>\n",
              "  "
            ],
            "text/plain": [
              "                Decision Tree  ...  Support Vector Machines\n",
              "F1                      0.872  ...                    0.863\n",
              "Recall                  0.885  ...                    0.885\n",
              "Precision               0.859  ...                    0.842\n",
              "Accuracy Score          0.806  ...                    0.791\n",
              "ROC AUC                 0.731  ...                    0.700\n",
              "\n",
              "[5 rows x 6 columns]"
            ]
          },
          "metadata": {},
          "execution_count": 37
        }
      ]
    },
    {
      "cell_type": "markdown",
      "source": [
        "To help visualize the scores we're going to use a heatmap. To do so we're going to import seaborn and feed the heatmap with the dataframe of scores we've created."
      ],
      "metadata": {
        "id": "B6o8jgeEReR2"
      }
    },
    {
      "cell_type": "code",
      "source": [
        "import seaborn as sns\n",
        "\n",
        "fig, ax = plt.subplots(figsize=(10,5))\n",
        "\n",
        "ax = sns.heatmap(results_df,\n",
        "                 annot=True,\n",
        "                 linewidths=.5,\n",
        "                 cbar_kws={\"label\":\"Score\"})\n",
        "\n",
        "plt.tight_layout()  \n",
        "plt.show()"
      ],
      "metadata": {
        "colab": {
          "base_uri": "https://localhost:8080/",
          "height": 369
        },
        "id": "IXBbqJhsOxAr",
        "outputId": "dfed40a8-aee2-4196-ad93-1104c24bfbe6"
      },
      "execution_count": 38,
      "outputs": [
        {
          "output_type": "display_data",
          "data": {
            "image/png": "[encoded data removed]",
            "text/plain": [
              "<Figure size 720x360 with 2 Axes>"
            ]
          },
          "metadata": {
            "needs_background": "light"
          }
        }
      ]
    },
    {
      "cell_type": "markdown",
      "source": [
        "The results show the different performance of each classification algorithm. Some algorithms such as \"Random Forest\" are very good at classifying \"approved loans\" as approved (have a high \"Recall Score\") but then are poorer than the rest when it comes to classifying \"loans not approved\" as \"not approved\" (have a lower \"Precision Score\"). Continuing with \"Random Forest\" as an example, this high \"Recall Score\" and lower \"Precision Score\" is then reflected in the \"Accuracy Score\" which measures the % of correct prediction across all the classes. \n",
        "\n",
        "But in order to better compare models with high or low \"Recall Score\" and \"Precision Score\" we can use the \"F1 Score\". The \"F1 Score\" uses the \"harmonic mean\" of the \"Recall Score\" and \"Precision Score\" and summarises them in one number. Even though the \"Random Forest\" algorithm has the highest \"Recall Score\", it has a lower F1 score than other algorithms such as \"Decision Tree\".\n",
        "\n",
        "Finally we can look at the ROC AUC score which combines the \"True Positive Rate\" (TPR) and \"False Positive Rate\" (FPR). A model that classifies all the observations correctly would have ROC AUC Score of 1, therefore the closer the ROC AUC Score to 1 the better. \n",
        "\n",
        "Looking at both \"F1 Score\" and \"ROC AUC Score\" we can determine that \"Decision Tree\" is the best performing algorithm in this case.\n",
        "\n"
      ],
      "metadata": {
        "id": "3zV1PUfDSpb6"
      }
    },
    {
      "cell_type": "code",
      "source": [
        "#predict if the loan is going to be given to someone who's a Female, married, self-employed, non-graduate, has a credit history and lives in a rural property area and compare it to\n",
        "# the same type of individual but without credit history\n",
        "\n",
        "example_entry = [{\"Gender\" : 2, \"Married\" : 1, \"Self_Employed\" : 1, \"Graduate\" : 0, \"Credit_History\" : 1, \"Property_Area\" : 3},\n",
        "                 {\"Gender\" : 2, \"Married\" : 1, \"Self_Employed\" : 1, \"Graduate\" : 0, \"Credit_History\" : 0, \"Property_Area\" : 3}]\n",
        "\n",
        "X_example = pd.DataFrame(example_entry, index=[\"example_1\", \"example_2\"])\n",
        "\n",
        "X_example.index.name = \"Loan_ID\""
      ],
      "metadata": {
        "id": "7I8KL0GbWZEf"
      },
      "execution_count": 39,
      "outputs": []
    },
    {
      "cell_type": "code",
      "source": [
        "# predict Loan Approvals for the two examples provided using all the different classifiers\n",
        "\n",
        "prediction_example = list()\n",
        "\n",
        "for key, classifier in classifiers.items():\n",
        "    predict_example = classifier.predict(X_example)\n",
        "    prediction_example.append(predict_example)\n",
        "\n",
        "prediction_example_dict= dict(zip(classifiers.keys(), prediction_example))"
      ],
      "metadata": {
        "id": "9IGQ3z_4YUom"
      },
      "execution_count": 40,
      "outputs": []
    },
    {
      "cell_type": "code",
      "source": [
        "#create dataframe with the results and decode results into \"Yes\" and \"No\"\n",
        "\n",
        "prediction_example_df = pd.DataFrame.from_dict(prediction_example_dict)\n",
        "\n",
        "index = prediction_example_df.index\n",
        "\n",
        "index.name = \"Example Number\"\n",
        "\n",
        "decode_results = {\"Decision Tree\": {1 : \"Y\", 0 : \"N\"},\n",
        "                 \"Random Forest\": {1: \"Y\", 0 : \"N\"},\n",
        "                 \"Logistic Regression\": {1: \"Y\", 0 : \"N\"},\n",
        "                 \"Gradient Boosting Classifier\": {1: \"Y\", 0 : \"N\"},\n",
        "                 \"KNeighbors\": {1: \"Y\", 0 : \"N\"},\n",
        "                 \"Support Vector Machines\": {1: \"Y\", 0 : \"N\"}}\n",
        "\n",
        "prediction_example_df = prediction_example_df.replace(decode_results)\n",
        "\n",
        "prediction_example_df"
      ],
      "metadata": {
        "id": "v7d7UlL4c-Vo",
        "colab": {
          "base_uri": "https://localhost:8080/",
          "height": 143
        },
        "outputId": "1b1e0424-388f-4504-f090-b283cd126d00"
      },
      "execution_count": 41,
      "outputs": [
        {
          "output_type": "execute_result",
          "data": {
            "text/html": [
              "\n",
              "  <div id=\"df-17d257a9-db23-4a68-8671-f214e41d65b9\">\n",
              "    <div class=\"colab-df-container\">\n",
              "      <div>\n",
              "<style scoped>\n",
              "    .dataframe tbody tr th:only-of-type {\n",
              "        vertical-align: middle;\n",
              "    }\n",
              "\n",
              "    .dataframe tbody tr th {\n",
              "        vertical-align: top;\n",
              "    }\n",
              "\n",
              "    .dataframe thead th {\n",
              "        text-align: right;\n",
              "    }\n",
              "</style>\n",
              "<table border=\"1\" class=\"dataframe\">\n",
              "  <thead>\n",
              "    <tr style=\"text-align: right;\">\n",
              "      <th></th>\n",
              "      <th>Decision Tree</th>\n",
              "      <th>Random Forest</th>\n",
              "      <th>Logistic Regression</th>\n",
              "      <th>Gradient Boosting Classifier</th>\n",
              "      <th>KNeighbors</th>\n",
              "      <th>Support Vector Machines</th>\n",
              "    </tr>\n",
              "    <tr>\n",
              "      <th>Example Number</th>\n",
              "      <th></th>\n",
              "      <th></th>\n",
              "      <th></th>\n",
              "      <th></th>\n",
              "      <th></th>\n",
              "      <th></th>\n",
              "    </tr>\n",
              "  </thead>\n",
              "  <tbody>\n",
              "    <tr>\n",
              "      <th>0</th>\n",
              "      <td>Y</td>\n",
              "      <td>Y</td>\n",
              "      <td>Y</td>\n",
              "      <td>Y</td>\n",
              "      <td>Y</td>\n",
              "      <td>Y</td>\n",
              "    </tr>\n",
              "    <tr>\n",
              "      <th>1</th>\n",
              "      <td>N</td>\n",
              "      <td>Y</td>\n",
              "      <td>N</td>\n",
              "      <td>Y</td>\n",
              "      <td>Y</td>\n",
              "      <td>N</td>\n",
              "    </tr>\n",
              "  </tbody>\n",
              "</table>\n",
              "</div>\n",
              "      <button class=\"colab-df-convert\" onclick=\"convertToInteractive('df-17d257a9-db23-4a68-8671-f214e41d65b9')\"\n",
              "              title=\"Convert this dataframe to an interactive table.\"\n",
              "              style=\"display:none;\">\n",
              "        \n",
              "  <svg xmlns=\"http://www.w3.org/2000/svg\" height=\"24px\"viewBox=\"0 0 24 24\"\n",
              "       width=\"24px\">\n",
              "    <path d=\"M0 0h24v24H0V0z\" fill=\"none\"/>\n",
              "    <path d=\"M18.56 5.44l.94 2.06.94-2.06 2.06-.94-2.06-.94-.94-2.06-.94 2.06-2.06.94zm-11 1L8.5 8.5l.94-2.06 2.06-.94-2.06-.94L8.5 2.5l-.94 2.06-2.06.94zm10 10l.94 2.06.94-2.06 2.06-.94-2.06-.94-.94-2.06-.94 2.06-2.06.94z\"/><path d=\"M17.41 7.96l-1.37-1.37c-.4-.4-.92-.59-1.43-.59-.52 0-1.04.2-1.43.59L10.3 9.45l-7.72 7.72c-.78.78-.78 2.05 0 2.83L4 21.41c.39.39.9.59 1.41.59.51 0 1.02-.2 1.41-.59l7.78-7.78 2.81-2.81c.8-.78.8-2.07 0-2.86zM5.41 20L4 18.59l7.72-7.72 1.47 1.35L5.41 20z\"/>\n",
              "  </svg>\n",
              "      </button>\n",
              "      \n",
              "  <style>\n",
              "    .colab-df-container {\n",
              "      display:flex;\n",
              "      flex-wrap:wrap;\n",
              "      gap: 12px;\n",
              "    }\n",
              "\n",
              "    .colab-df-convert {\n",
              "      background-color: #E8F0FE;\n",
              "      border: none;\n",
              "      border-radius: 50%;\n",
              "      cursor: pointer;\n",
              "      display: none;\n",
              "      fill: #1967D2;\n",
              "      height: 32px;\n",
              "      padding: 0 0 0 0;\n",
              "      width: 32px;\n",
              "    }\n",
              "\n",
              "    .colab-df-convert:hover {\n",
              "      background-color: #E2EBFA;\n",
              "      box-shadow: 0px 1px 2px rgba(60, 64, 67, 0.3), 0px 1px 3px 1px rgba(60, 64, 67, 0.15);\n",
              "      fill: #174EA6;\n",
              "    }\n",
              "\n",
              "    [theme=dark] .colab-df-convert {\n",
              "      background-color: #3B4455;\n",
              "      fill: #D2E3FC;\n",
              "    }\n",
              "\n",
              "    [theme=dark] .colab-df-convert:hover {\n",
              "      background-color: #434B5C;\n",
              "      box-shadow: 0px 1px 3px 1px rgba(0, 0, 0, 0.15);\n",
              "      filter: drop-shadow(0px 1px 2px rgba(0, 0, 0, 0.3));\n",
              "      fill: #FFFFFF;\n",
              "    }\n",
              "  </style>\n",
              "\n",
              "      <script>\n",
              "        const buttonEl =\n",
              "          document.querySelector('#df-17d257a9-db23-4a68-8671-f214e41d65b9 button.colab-df-convert');\n",
              "        buttonEl.style.display =\n",
              "          google.colab.kernel.accessAllowed ? 'block' : 'none';\n",
              "\n",
              "        async function convertToInteractive(key) {\n",
              "          const element = document.querySelector('#df-17d257a9-db23-4a68-8671-f214e41d65b9');\n",
              "          const dataTable =\n",
              "            await google.colab.kernel.invokeFunction('convertToInteractive',\n",
              "                                                     [key], {});\n",
              "          if (!dataTable) return;\n",
              "\n",
              "          const docLinkHtml = 'Like what you see? Visit the ' +\n",
              "            '<a target=\"_blank\" href=https://colab.research.google.com/notebooks/data_table.ipynb>data table notebook</a>'\n",
              "            + ' to learn more about interactive tables.';\n",
              "          element.innerHTML = '';\n",
              "          dataTable['output_type'] = 'display_data';\n",
              "          await google.colab.output.renderOutput(dataTable, element);\n",
              "          const docLink = document.createElement('div');\n",
              "          docLink.innerHTML = docLinkHtml;\n",
              "          element.appendChild(docLink);\n",
              "        }\n",
              "      </script>\n",
              "    </div>\n",
              "  </div>\n",
              "  "
            ],
            "text/plain": [
              "               Decision Tree Random Forest  ... KNeighbors Support Vector Machines\n",
              "Example Number                              ...                                   \n",
              "0                          Y             Y  ...          Y                       Y\n",
              "1                          N             Y  ...          Y                       N\n",
              "\n",
              "[2 rows x 6 columns]"
            ]
          },
          "metadata": {},
          "execution_count": 41
        }
      ]
    },
    {
      "cell_type": "markdown",
      "source": [
        "In the example we can see the big impact that having or not having credit history makes in some of the classifiers. For an individual with the exact same characteristics but without credit history, 3 out of the 6 classifiers would not approve a loan."
      ],
      "metadata": {
        "id": "1skkC0OyrzWm"
      }
    }
  ]
}
